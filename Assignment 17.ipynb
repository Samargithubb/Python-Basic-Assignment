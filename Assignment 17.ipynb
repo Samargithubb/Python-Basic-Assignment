{
 "cells": [
  {
   "cell_type": "code",
   "execution_count": 1,
   "id": "b6979289",
   "metadata": {},
   "outputs": [
    {
     "name": "stdout",
     "output_type": "stream",
     "text": [
      "just right\n"
     ]
    }
   ],
   "source": [
    "1. Assign the value 7 to the variable guess_me. Then, write the conditional tests (if, else, and elif) to print the string \n",
    "'too low' if guess_me is less than 7, 'too high' if greater than 7, and 'just right' if equal to 7.\n",
    "Ans.\n",
    "guess_me=7\n",
    "if guess_me<7:\n",
    "    print(\"too low\")\n",
    "elif guess_me>7:\n",
    "    print(\"too high\")\n",
    "else:\n",
    "    print(\"just right\")\n",
    "    "
   ]
  },
  {
   "cell_type": "code",
   "execution_count": 2,
   "id": "4f3435e4",
   "metadata": {},
   "outputs": [
    {
     "name": "stdout",
     "output_type": "stream",
     "text": [
      "too low\n",
      "too low\n",
      "too low\n",
      "too low\n",
      "too low\n",
      "too low\n",
      "found it!\n"
     ]
    }
   ],
   "source": [
    "2. Assign the value 7 to the variable guess_me and the value 1 to the variable start.\n",
    "Write a while loop that compares start with guess_me. Print too low if start is less\n",
    "than guess me. If start equals guess_me, print 'found it!' and exit the loop. If start \n",
    "is greater than guess_me, print 'oops' and exit the loop. Increment start at the end of the loop.\n",
    "Ans.\n",
    "guess_me =7\n",
    "start =1\n",
    "while(True):\n",
    "    if start < guess_me:\n",
    "        print(\"too low\")\n",
    "    elif start == guess_me:\n",
    "        print(\"found it!\")\n",
    "        break\n",
    "    elif start > guess_me:\n",
    "        print(\"oops\")\n",
    "        break\n",
    "    start+=1"
   ]
  },
  {
   "cell_type": "code",
   "execution_count": 8,
   "id": "4e537f02",
   "metadata": {},
   "outputs": [
    {
     "name": "stdout",
     "output_type": "stream",
     "text": [
      "3\n",
      "2\n",
      "1\n",
      "0\n"
     ]
    }
   ],
   "source": [
    "3. Print the following values of the list [3, 2, 1, 0] using a for loop.\n",
    "Ans.\n",
    "\n",
    "my_list=[3,2,1,0]\n",
    "for i in my_list:\n",
    "    print(i)"
   ]
  },
  {
   "cell_type": "code",
   "execution_count": 12,
   "id": "c54187da",
   "metadata": {},
   "outputs": [
    {
     "data": {
      "text/plain": [
       "[0, 2, 4, 6, 8]"
      ]
     },
     "execution_count": 12,
     "metadata": {},
     "output_type": "execute_result"
    }
   ],
   "source": [
    "4. Use a list comprehension to make a list of the even numbers in range(10)\n",
    "Ans.\n",
    "\n",
    "even_list=[]\n",
    "for i in range(10):\n",
    "    if i%2==0:\n",
    "        even_list.append(i)\n",
    "    \n",
    "\n",
    "even_list"
   ]
  },
  {
   "cell_type": "code",
   "execution_count": 14,
   "id": "bcc6e652",
   "metadata": {},
   "outputs": [
    {
     "data": {
      "text/plain": [
       "{0: 0, 1: 1, 2: 4, 3: 9, 4: 16, 5: 25, 6: 36, 7: 49, 8: 64, 9: 81}"
      ]
     },
     "execution_count": 14,
     "metadata": {},
     "output_type": "execute_result"
    }
   ],
   "source": [
    "5. Use a dictionary comprehension to create the dictionary squares. Use range(10) to return the keys,\n",
    "and use the square of each key as its value.\n",
    "Ans.\n",
    "dict_squares={k:k**2 for k in range(10)}\n",
    "dict_squares"
   ]
  },
  {
   "cell_type": "code",
   "execution_count": 16,
   "id": "788566e4",
   "metadata": {},
   "outputs": [
    {
     "data": {
      "text/plain": [
       "[1, 3, 5, 7, 9]"
      ]
     },
     "execution_count": 16,
     "metadata": {},
     "output_type": "execute_result"
    }
   ],
   "source": [
    "6. Construct the set odd from the odd numbers in the range using a set comprehension (10).\n",
    "Ans.\n",
    "\n",
    "odd_list=[]\n",
    "for i in range(10):\n",
    "    if i%2 !=0:\n",
    "        odd_list.append(i)\n",
    "odd_list"
   ]
  },
  {
   "cell_type": "code",
   "execution_count": 17,
   "id": "24f0ca6a",
   "metadata": {},
   "outputs": [
    {
     "name": "stdout",
     "output_type": "stream",
     "text": [
      "Got 0\n",
      "Got 1\n",
      "Got 2\n",
      "Got 3\n",
      "Got 4\n",
      "Got 5\n",
      "Got 6\n",
      "Got 7\n",
      "Got 8\n",
      "Got 9\n"
     ]
    }
   ],
   "source": [
    "7. Use a generator comprehension to return the string 'Got ' and a number for the numbers in range(10).\n",
    "Iterate through this by using a for loop.\n",
    "Ans.\n",
    "\n",
    "for i in range(10):\n",
    "    print(\"Got\",i)"
   ]
  },
  {
   "cell_type": "code",
   "execution_count": 18,
   "id": "3134da23",
   "metadata": {},
   "outputs": [
    {
     "data": {
      "text/plain": [
       "['Harry', 'Ron', 'hermione']"
      ]
     },
     "execution_count": 18,
     "metadata": {},
     "output_type": "execute_result"
    }
   ],
   "source": [
    "8. Define a function called good that returns the list ['Harry', 'Ron', 'Hermione'].\n",
    "Ans.\n",
    "\n",
    "def good():\n",
    "    return[\"Harry\",\"Ron\",\"hermione\"]\n",
    "good()"
   ]
  },
  {
   "cell_type": "code",
   "execution_count": 19,
   "id": "4ca59e14",
   "metadata": {},
   "outputs": [
    {
     "name": "stdout",
     "output_type": "stream",
     "text": [
      "The third odd number is:5\n"
     ]
    }
   ],
   "source": [
    "9. Define a generator function called get_odds that returns the odd numbers from range(10).\n",
    "Use a for loop to find and print the third value returned.\n",
    "Ans.\n",
    "\n",
    "def get_odds():\n",
    "    for number in range(1,10,2):\n",
    "        yield number\n",
    "count=1\n",
    "for number in get_odds():\n",
    "    if count==3:\n",
    "        print(f'The third odd number is:{number}')\n",
    "        break\n",
    "    count+=1"
   ]
  },
  {
   "cell_type": "code",
   "execution_count": 20,
   "id": "7bfa2381",
   "metadata": {},
   "outputs": [
    {
     "name": "stdout",
     "output_type": "stream",
     "text": [
      "Caught an oops -1\n"
     ]
    }
   ],
   "source": [
    "10. Define an exception called OopsException. Raise this exception to see what happens. \n",
    "Then write the code to catch this exception and print 'Caught an oops'.\n",
    "Ans.\n",
    "\n",
    "class OopsException(Exception):\n",
    "    pass\n",
    "def raiseException(num):\n",
    "    if num<0:\n",
    "        raise OopsException(num)\n",
    "        \n",
    "try:\n",
    "    raiseException(-1)\n",
    "except OopsException as err:\n",
    "    print(\"Caught an oops\",err)"
   ]
  },
  {
   "cell_type": "code",
   "execution_count": null,
   "id": "078959c1",
   "metadata": {},
   "outputs": [],
   "source": [
    "11. Use zip() to make a dictionary called movies that pairs these lists: titles = ['Creature of Habit', 'Crewel Fate'] and \n",
    "plots = ['A nun turns into a monster', 'A haunted yarn shop'].\n",
    "Ans."
   ]
  },
  {
   "cell_type": "code",
   "execution_count": 24,
   "id": "8f51ade6",
   "metadata": {},
   "outputs": [
    {
     "name": "stdout",
     "output_type": "stream",
     "text": [
      "{'Creature of Habit': 'A nun turns into a monster', 'Crewel Fate': 'A haunted yarn shop'}\n"
     ]
    }
   ],
   "source": [
    "titles=[\"Creature of Habit\",\"Crewel Fate\"]\n",
    "plots =[\"A nun turns into a monster\",\"A haunted yarn shop\"]\n",
    "movies={}\n",
    "for title,plot in zip(titles,plots):\n",
    "    movies=dict(zip(titles,plots))\n",
    "print(movies)"
   ]
  }
 ],
 "metadata": {
  "kernelspec": {
   "display_name": "Python 3 (ipykernel)",
   "language": "python",
   "name": "python3"
  },
  "language_info": {
   "codemirror_mode": {
    "name": "ipython",
    "version": 3
   },
   "file_extension": ".py",
   "mimetype": "text/x-python",
   "name": "python",
   "nbconvert_exporter": "python",
   "pygments_lexer": "ipython3",
   "version": "3.9.7"
  }
 },
 "nbformat": 4,
 "nbformat_minor": 5
}
