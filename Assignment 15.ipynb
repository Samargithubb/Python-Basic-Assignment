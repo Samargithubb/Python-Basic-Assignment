{
 "cells": [
  {
   "cell_type": "code",
   "execution_count": 1,
   "id": "be169319",
   "metadata": {},
   "outputs": [
    {
     "data": {
      "text/plain": [
       "3600"
      ]
     },
     "execution_count": 1,
     "metadata": {},
     "output_type": "execute_result"
    }
   ],
   "source": [
    "1.How many seconds are in an hour? Use the interactive interpreter as a calculator and multiply the number of seconds in \n",
    "a minute (60) by the number of minutes in an hour (also 60).\n",
    "Ans.\n",
    "60*60"
   ]
  },
  {
   "cell_type": "code",
   "execution_count": 2,
   "id": "252a5dc5",
   "metadata": {},
   "outputs": [
    {
     "data": {
      "text/plain": [
       "3600"
      ]
     },
     "execution_count": 2,
     "metadata": {},
     "output_type": "execute_result"
    }
   ],
   "source": [
    "2. Assign the result from the previous task (seconds in an hour) to a variable called\n",
    "seconds_per_hour.\n",
    "Ans.\n",
    "seconds_per_hour=60*60\n",
    "seconds_per_hour"
   ]
  },
  {
   "cell_type": "code",
   "execution_count": 3,
   "id": "8fcbcd9f",
   "metadata": {},
   "outputs": [
    {
     "data": {
      "text/plain": [
       "86400"
      ]
     },
     "execution_count": 3,
     "metadata": {},
     "output_type": "execute_result"
    }
   ],
   "source": [
    "3. How many seconds do you think there are in a day? Make use of the variables seconds per hour and minutes per hour.\n",
    "Ans.\n",
    "24* seconds_per_hour"
   ]
  },
  {
   "cell_type": "code",
   "execution_count": 8,
   "id": "c22cfd08",
   "metadata": {},
   "outputs": [
    {
     "data": {
      "text/plain": [
       "86400"
      ]
     },
     "execution_count": 8,
     "metadata": {},
     "output_type": "execute_result"
    }
   ],
   "source": [
    "4. Calculate seconds per day again,but this time save the result in variable called seconds_per_day\n",
    "Ans.\n",
    "seconds_per_day= 24 * seconds_per_hour\n",
    "seconds_per_day"
   ]
  },
  {
   "cell_type": "code",
   "execution_count": 10,
   "id": "f4a6ae78",
   "metadata": {},
   "outputs": [
    {
     "data": {
      "text/plain": [
       "24.0"
      ]
     },
     "execution_count": 10,
     "metadata": {},
     "output_type": "execute_result"
    }
   ],
   "source": [
    "5.Divide seconds_per_day by seconds_per_hour. Use floating-point (/) division.\n",
    "Ans.\n",
    "seconds_per_day / seconds_per_hour"
   ]
  },
  {
   "cell_type": "code",
   "execution_count": 11,
   "id": "54dfa45a",
   "metadata": {},
   "outputs": [
    {
     "data": {
      "text/plain": [
       "24"
      ]
     },
     "execution_count": 11,
     "metadata": {},
     "output_type": "execute_result"
    }
   ],
   "source": [
    "6. Divide seconds_per_day by seconds_per_hour, using integer (//) division. Did this number agree with the floating-point value from the previous question, \n",
    "aside from the final .0?\n",
    "Ans. Yes this number agree with the floating point value from the previous question,aside from the final.0\n",
    "seconds_per_day // seconds_per_hour"
   ]
  },
  {
   "cell_type": "code",
   "execution_count": null,
   "id": "ba659434",
   "metadata": {},
   "outputs": [],
   "source": [
    "7. Write a generator, genPrimes, that returns the sequence of prime numbers on successive calls to its next() method: 2, 3, 5, 7, 11, ...\n",
    "Ans.    \n",
    "def genPrimes(n):\n",
    "    prime_lst = []\n",
    "    \n",
    "    num = 2\n",
    "    while num <= n:\n",
    "        for i in range(2, num):\n",
    "            if num % i == 0:\n",
    "                break\n",
    "        else:\n",
    "            # prime_lst.append(num)\n",
    "            yield num\n",
    "        num += 1\n",
    "prime_numbers = genPrimes(19)"
   ]
  },
  {
   "cell_type": "code",
   "execution_count": 30,
   "id": "af23a06f",
   "metadata": {},
   "outputs": [
    {
     "name": "stdout",
     "output_type": "stream",
     "text": [
      "2\n",
      "3\n",
      "5\n",
      "7\n"
     ]
    }
   ],
   "source": [
    "print(next(prime_numbers))\n",
    "print(next(prime_numbers))\n",
    "print(next(prime_numbers))\n",
    "print(next(prime_numbers))"
   ]
  },
  {
   "cell_type": "code",
   "execution_count": 37,
   "id": "6a625eb5",
   "metadata": {},
   "outputs": [
    {
     "name": "stdout",
     "output_type": "stream",
     "text": [
      "range(0, 5)\n"
     ]
    }
   ],
   "source": [
    "print(range(5))"
   ]
  },
  {
   "cell_type": "code",
   "execution_count": null,
   "id": "70b77cca",
   "metadata": {},
   "outputs": [],
   "source": []
  }
 ],
 "metadata": {
  "kernelspec": {
   "display_name": "Python 3 (ipykernel)",
   "language": "python",
   "name": "python3"
  },
  "language_info": {
   "codemirror_mode": {
    "name": "ipython",
    "version": 3
   },
   "file_extension": ".py",
   "mimetype": "text/x-python",
   "name": "python",
   "nbconvert_exporter": "python",
   "pygments_lexer": "ipython3",
   "version": "3.9.7"
  }
 },
 "nbformat": 4,
 "nbformat_minor": 5
}
