{
 "cells": [
  {
   "cell_type": "code",
   "execution_count": null,
   "id": "03b911a5",
   "metadata": {},
   "outputs": [],
   "source": [
    "1. To what does a relative path refer?\n",
    "Ans. Relative paths are relative to the current working directory.\n"
   ]
  },
  {
   "cell_type": "code",
   "execution_count": null,
   "id": "f24fa557",
   "metadata": {},
   "outputs": [],
   "source": [
    "2. What does an absolute path start with your operating system?\n",
    "Ans.Absolute paths start with the root folder,sucha as / or c:\\."
   ]
  },
  {
   "cell_type": "code",
   "execution_count": null,
   "id": "54494c29",
   "metadata": {},
   "outputs": [],
   "source": [
    "3. What do the functions os.getcwd() and os.chdir() do?\n",
    "Ans.The os.getcwed() function returns the current working directory.\n",
    "The os.chdir() fuction changes the current working directory.\n"
   ]
  },
  {
   "cell_type": "code",
   "execution_count": null,
   "id": "d8190d19",
   "metadata": {},
   "outputs": [],
   "source": [
    "4. What are the . and .. folders?\n",
    "Ans.The .folder is the current folder,and ..is the parent folder."
   ]
  },
  {
   "cell_type": "code",
   "execution_count": null,
   "id": "f18ae0b0",
   "metadata": {},
   "outputs": [],
   "source": [
    "5. In C:\\bacon\\eggs\\spam.txt, which part is the dir name, and which\n",
    "part is the base name?\n",
    "Ans.C:\\bacon\\eggs is the directory name ,while spam.txt is the base name."
   ]
  },
  {
   "cell_type": "code",
   "execution_count": null,
   "id": "349e2684",
   "metadata": {},
   "outputs": [],
   "source": [
    "6. What are the three “mode” arguments that can be passed to the open() \n",
    "function?\n",
    "Ans. The string'r' for read mode,'w' for write mode and 'a'for append mode."
   ]
  },
  {
   "cell_type": "code",
   "execution_count": null,
   "id": "1a38e874",
   "metadata": {},
   "outputs": [],
   "source": [
    "7. What happens if an existing file is opened in write mode?\n",
    "Ans.An existing file opened in write mode is erased and completely overwritten."
   ]
  },
  {
   "cell_type": "code",
   "execution_count": null,
   "id": "720f58c8",
   "metadata": {},
   "outputs": [],
   "source": [
    "8. How do you tell the difference between read() and readlines()?\n",
    "Ans.The read() method returns the file's entire contents as a single string \n",
    "values. The readlines() method returns a list of strings, where each string is\n",
    "a line from the file's contents."
   ]
  },
  {
   "cell_type": "code",
   "execution_count": null,
   "id": "e5a87f97",
   "metadata": {},
   "outputs": [],
   "source": [
    "9. What data structure does a shelf value resemble?\n",
    "Ans.A shelf vlaue resembles a dictinary value; it has keys and values, along\n",
    "with keys() and values() methods that work similarly to the dictionary methods \n",
    "of the same names."
   ]
  }
 ],
 "metadata": {
  "kernelspec": {
   "display_name": "Python 3 (ipykernel)",
   "language": "python",
   "name": "python3"
  },
  "language_info": {
   "codemirror_mode": {
    "name": "ipython",
    "version": 3
   },
   "file_extension": ".py",
   "mimetype": "text/x-python",
   "name": "python",
   "nbconvert_exporter": "python",
   "pygments_lexer": "ipython3",
   "version": "3.9.7"
  }
 },
 "nbformat": 4,
 "nbformat_minor": 5
}
