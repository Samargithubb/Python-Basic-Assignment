{
 "cells": [
  {
   "cell_type": "code",
   "execution_count": null,
   "id": "159ac374",
   "metadata": {},
   "outputs": [],
   "source": [
    "1 . What is the difference between enclosing a list comprehension in square brackets\n",
    "and parentheses?\n",
    "Ans.List comprehension in square brackets produces a list object as output List comprehension\n",
    "in oval parenthesis() produces a generator object List comprehension in flower parenthesis {}\n",
    "produces a set object."
   ]
  },
  {
   "cell_type": "code",
   "execution_count": 1,
   "id": "1b99535a",
   "metadata": {},
   "outputs": [
    {
     "name": "stdout",
     "output_type": "stream",
     "text": [
      "<class 'list'>\n"
     ]
    }
   ],
   "source": [
    "temp = [i for i in range(10)] \n",
    "print(type(temp)) "
   ]
  },
  {
   "cell_type": "code",
   "execution_count": 2,
   "id": "a8a2bf57",
   "metadata": {},
   "outputs": [
    {
     "name": "stdout",
     "output_type": "stream",
     "text": [
      "<class 'generator'>\n"
     ]
    }
   ],
   "source": [
    "temp2 = (i for i in range(10)) \n",
    "print(type(temp2))"
   ]
  },
  {
   "cell_type": "code",
   "execution_count": 4,
   "id": "c74da282",
   "metadata": {},
   "outputs": [
    {
     "name": "stdout",
     "output_type": "stream",
     "text": [
      "<class 'set'>\n"
     ]
    }
   ],
   "source": [
    " temp3= {i for i in range(10)}\n",
    "print(type(temp3))"
   ]
  },
  {
   "cell_type": "code",
   "execution_count": null,
   "id": "54b36a3f",
   "metadata": {},
   "outputs": [],
   "source": [
    "2. What is the relationship between generators and iterators?\n",
    "Ans. An iterator is an object which contains a countable number of values and it is\n",
    "used to iterate over iterable object like list,tuples etc\n",
    "Using an iterator-iter() keyword is used to create an iterator containing an iterable\n",
    "object. next() keyword is used to call the next element  in the iterable object.\n",
    "\n",
    "Generator- It is another way to creating iterators in a simple way where it uses the\n",
    "keyword \"yield\" instead of returning it in a defined function Generators are \n",
    "implemented using a function containing yield return statement.\n",
    "\n",
    "Here, the yield function returns the data without affecting or exiting the function.\n",
    "It will return a sequence of data in an iterable format where we need to iterate over\n",
    "the sequence to use the data as they won’t store the entire sequence in the memory By\n",
    "using next() function we can iterate the output of generator function"
   ]
  },
  {
   "cell_type": "code",
   "execution_count": null,
   "id": "0f8a0362",
   "metadata": {},
   "outputs": [],
   "source": [
    "3. What are the signs that a function is a generator function?\n",
    "Ans.If a function contains at least one yield statement (it may contain other yield\n",
    "or return statements), it becomes a generator function. Both yield and return will return \n",
    "some value from a function."
   ]
  },
  {
   "cell_type": "code",
   "execution_count": null,
   "id": "798b8db5",
   "metadata": {},
   "outputs": [],
   "source": [
    "4. What is the purpose of a yield statement?\n",
    "Ans. A yield statement looks much like a return statement, except that instead of\n",
    "stopping execution of the function and returning, yield instead provides a value to\n",
    "the code looping over the generator and pauses execution of the generator function"
   ]
  },
  {
   "cell_type": "code",
   "execution_count": null,
   "id": "257437c1",
   "metadata": {},
   "outputs": [],
   "source": [
    "5. What is the relationship between map calls and list comprehensions? Make a comparison\n",
    "and contrast between the two.\n",
    "Ans.\n",
    "Map function: Suppose we have a function and we want to compute this function for different \n",
    "values in a single line of code . This is where map() function plays its role. map() function\n",
    "returns a map object(which is an iterator) of the results after applying the given function to \n",
    "each item of a given iterable (list, tuple etc.)\n",
    "\n",
    "If we already have a function defined, it is often good to use map For example, map(sum, myLists)\n",
    "is more neat than [sum(x) for x in myLists]. You gain the elegance of not having to make up a dummy \n",
    "variable (e.g. sum(x) for x... or sum() for ... or sum(readableName) for readableName...) which you\n",
    "have to type twice, just to iterate.\n",
    "\n",
    "List Comprehension: List Comprehension is a substitute for the lambda function, map(), filter() and reduce()\n",
    "\n",
    "Comparision :\n",
    "\n",
    "List comprehension is more concise and easier to read as compared to map\n",
    "List comprehension allows filtering. In map, we have no such facility For example, to print all even numbers in range of 100, we can write [n for n in range(100) if n%2 == 0]. There is no alternate for it in map\n",
    "List comprehension are used when a list of results is required, where as map only returns a map object and does not return any list.\n",
    "List comprehension is faster than map when we need to evaluate expressions that are too long or complicated to express\n",
    "Map is faster in case of calling an already defined function (as no lambda is required)"
   ]
  }
 ],
 "metadata": {
  "kernelspec": {
   "display_name": "Python 3 (ipykernel)",
   "language": "python",
   "name": "python3"
  },
  "language_info": {
   "codemirror_mode": {
    "name": "ipython",
    "version": 3
   },
   "file_extension": ".py",
   "mimetype": "text/x-python",
   "name": "python",
   "nbconvert_exporter": "python",
   "pygments_lexer": "ipython3",
   "version": "3.9.7"
  }
 },
 "nbformat": 4,
 "nbformat_minor": 5
}
