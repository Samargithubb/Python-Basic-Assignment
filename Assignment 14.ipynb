{
 "cells": [
  {
   "cell_type": "code",
   "execution_count": null,
   "id": "f5e28aad",
   "metadata": {},
   "outputs": [],
   "source": [
    "1.What does RGBA stand for?\n",
    "Ans. R-Red,G-Green,B-Blue,A-Alpha"
   ]
  },
  {
   "cell_type": "code",
   "execution_count": null,
   "id": "58a0e4a2",
   "metadata": {},
   "outputs": [],
   "source": [
    "2.From the Pillow module,how do you get the RGBA value of any images?\n",
    "Ans. from PIL import ImageColor\n",
    "ImageColor.getcolor(color_name,'RGBA')"
   ]
  },
  {
   "cell_type": "code",
   "execution_count": null,
   "id": "ad0aedef",
   "metadata": {},
   "outputs": [],
   "source": [
    "3.What is box tuple,and how does it work?\n",
    "Ans.A box tuple is a tuple value of four integers: the\n",
    "left edge x-cordinate, the top edge y-cordinate, the \n",
    "width, and the height, respectively."
   ]
  },
  {
   "cell_type": "code",
   "execution_count": 6,
   "id": "0f8a3da0",
   "metadata": {},
   "outputs": [
    {
     "name": "stdout",
     "output_type": "stream",
     "text": [
      "width 2732\n",
      "height 1536\n"
     ]
    }
   ],
   "source": [
    "4. Use your image and load in notebook then, How can you find out the width and height of an Imageobject?\n",
    "Ans.\n",
    "from PIL import Image\n",
    "img=Image.open(\"C:image.png.png\")\n",
    "width,height=img.size\n",
    "print(\"width\", width)\n",
    "print(\"height\",height)"
   ]
  },
  {
   "cell_type": "code",
   "execution_count": null,
   "id": "f3874358",
   "metadata": {},
   "outputs": [],
   "source": [
    "5. What method would you call to get Image object for a 100×100 image, excluding the lower-left quarter of it?\n",
    "Ans. from PIL import Image\n",
    "Image.new(\"RGBA\",(100,100))"
   ]
  },
  {
   "cell_type": "code",
   "execution_count": null,
   "id": "1cf1e842",
   "metadata": {},
   "outputs": [],
   "source": [
    "6. After making changes to an Image object, how could you save it as an image file?\n",
    "Ans. save(filename)"
   ]
  },
  {
   "cell_type": "code",
   "execution_count": null,
   "id": "f9ce585c",
   "metadata": {},
   "outputs": [],
   "source": [
    "7. What module contains Pillow’s shape-drawing code?\n",
    "Ans.ImgaeDraw"
   ]
  },
  {
   "cell_type": "code",
   "execution_count": null,
   "id": "e3d9d065",
   "metadata": {},
   "outputs": [],
   "source": [
    "8. Image objects do not have drawing methods. What kind of object does? How do you get this kind of object?\n",
    "Ans. wand.drawing.Drawing object has drawing methods.\n",
    "It can be got this way:\n",
    "from wand.drawing import Drawing"
   ]
  }
 ],
 "metadata": {
  "kernelspec": {
   "display_name": "Python 3 (ipykernel)",
   "language": "python",
   "name": "python3"
  },
  "language_info": {
   "codemirror_mode": {
    "name": "ipython",
    "version": 3
   },
   "file_extension": ".py",
   "mimetype": "text/x-python",
   "name": "python",
   "nbconvert_exporter": "python",
   "pygments_lexer": "ipython3",
   "version": "3.9.7"
  }
 },
 "nbformat": 4,
 "nbformat_minor": 5
}
