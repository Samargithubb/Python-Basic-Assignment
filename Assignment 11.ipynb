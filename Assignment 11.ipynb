{
 "cells": [
  {
   "cell_type": "code",
   "execution_count": null,
   "id": "ec8510b4",
   "metadata": {},
   "outputs": [],
   "source": [
    "1. Create an assert statement that throws an AssertionError if the variable\n",
    "spam is a negative integer.\n",
    "Ans. assert spam >0, \"Negative not allowed!\""
   ]
  },
  {
   "cell_type": "code",
   "execution_count": null,
   "id": "aa40da54",
   "metadata": {},
   "outputs": [],
   "source": [
    "2. Write an assert statement that triggers an AssertionError if the variables \n",
    "eggs and bacon contain strings that are the same as each other, even if their\n",
    "cases are different (that is, 'hello' and 'hello' are considered the same, and\n",
    "'goodbye' and 'GOODbye' are also considered the same).\n",
    "Ans. assert eggs.lower()!=bacon.lower(),\"eggs and bacon shouldn't be same!\""
   ]
  },
  {
   "cell_type": "code",
   "execution_count": null,
   "id": "d4eeeede",
   "metadata": {},
   "outputs": [],
   "source": [
    "3. Create an assert statement that throws an AssertionError every time.\n",
    "Ans. assert False"
   ]
  },
  {
   "cell_type": "code",
   "execution_count": null,
   "id": "20c51943",
   "metadata": {},
   "outputs": [],
   "source": [
    "4. What are the two lines that must be present in your software in order to \n",
    "call logging.debug()?\n",
    "Ans. import logging\n",
    "logging.basicConfig(filename=\"data.log\",level=level=logging.DEBUG,format='%(asctime)s %(levelname)s %(message)s')"
   ]
  },
  {
   "cell_type": "code",
   "execution_count": null,
   "id": "bc6784f4",
   "metadata": {},
   "outputs": [],
   "source": [
    "5. What are the two lines that your program must have in order to have \n",
    "logging.debug() send a logging messageto a file named programLog.txt?\n",
    "Ans. import logging\n",
    "logging.basicConfig(filename=\"programLog.txt\",level=logging.DEBUG,format='%(asctime)s %(levelname)s %(message)s')"
   ]
  },
  {
   "cell_type": "code",
   "execution_count": null,
   "id": "a22d1a91",
   "metadata": {},
   "outputs": [],
   "source": [
    "6. What are the five levels of logging?\n",
    "Ans.logging.error()\n",
    "logging.warning()\n",
    "logging.info()\n",
    "logging.critical()\n",
    "logging.debug()\n"
   ]
  },
  {
   "cell_type": "code",
   "execution_count": null,
   "id": "26dfa577",
   "metadata": {},
   "outputs": [],
   "source": [
    "7. What line of code would you add to your software to disable all logging\n",
    "messages?\n",
    "Ans.logging.disable(level)\n"
   ]
  },
  {
   "cell_type": "code",
   "execution_count": null,
   "id": "033aaa26",
   "metadata": {},
   "outputs": [],
   "source": [
    "8.Why is using logging messages better than using print() to display \n",
    "the same message?\n",
    "Ans. It helps to see where and when a logging call is being made from we can \n",
    "defferentiate logging based on severity,\n",
    "print does not have any of these."
   ]
  },
  {
   "cell_type": "code",
   "execution_count": null,
   "id": "9f182ecd",
   "metadata": {},
   "outputs": [],
   "source": [
    "9. What are the differences between the Step Over, Step In, and Step Out \n",
    "buttons in the debugger?\n",
    "Ans.The step over button will quickly execute the function call without stepping\n",
    "into it.\n",
    "The step in button will move the debugger into a function  call.\n",
    "The step out button will quickly execute the rest of the code until it steps out\n",
    "of the fucntion it currently is in.\n"
   ]
  },
  {
   "cell_type": "code",
   "execution_count": null,
   "id": "044bbac4",
   "metadata": {},
   "outputs": [],
   "source": [
    "10.After you click Continue, when will the debugger stop ?\n",
    "Ans.when it has reached the end of a program or a breakpoint"
   ]
  },
  {
   "cell_type": "code",
   "execution_count": null,
   "id": "4fd05c23",
   "metadata": {},
   "outputs": [],
   "source": [
    "11. What is the concept of a breakpoint?\n",
    "Ans.An intentional stopping point or pause put into program for debugging purpose."
   ]
  }
 ],
 "metadata": {
  "kernelspec": {
   "display_name": "Python 3 (ipykernel)",
   "language": "python",
   "name": "python3"
  },
  "language_info": {
   "codemirror_mode": {
    "name": "ipython",
    "version": 3
   },
   "file_extension": ".py",
   "mimetype": "text/x-python",
   "name": "python",
   "nbconvert_exporter": "python",
   "pygments_lexer": "ipython3",
   "version": "3.9.7"
  }
 },
 "nbformat": 4,
 "nbformat_minor": 5
}
