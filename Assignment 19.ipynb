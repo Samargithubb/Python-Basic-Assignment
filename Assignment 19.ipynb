{
 "cells": [
  {
   "cell_type": "code",
   "execution_count": 1,
   "id": "21ede27f",
   "metadata": {},
   "outputs": [
    {
     "name": "stdout",
     "output_type": "stream",
     "text": [
      "<class '__main__.Thing'>\n",
      "<__main__.Thing object at 0x000001FB27E30BE0>\n"
     ]
    }
   ],
   "source": [
    "1. Make a class called Thing with no contents and print it. Then,create an object called example from this \n",
    "class and also print it. Are the printed values the same or different?\n",
    "Ans.\n",
    "\n",
    "class Thing:\n",
    "    pass\n",
    "print(Thing)\n",
    "example=Thing()\n",
    "print(example)"
   ]
  },
  {
   "cell_type": "code",
   "execution_count": 2,
   "id": "68c5ee61",
   "metadata": {},
   "outputs": [
    {
     "name": "stdout",
     "output_type": "stream",
     "text": [
      "abc\n"
     ]
    }
   ],
   "source": [
    "2. Create a new class called Thing2 and add thevalue 'abc' to the letters class attribute.\n",
    "Letters should be printed.\n",
    "Ans.\n",
    "\n",
    "class Thing2:\n",
    "    letters=\"abc\"\n",
    "print(Thing2.letters)"
   ]
  },
  {
   "cell_type": "code",
   "execution_count": 3,
   "id": "7f315004",
   "metadata": {},
   "outputs": [
    {
     "name": "stdout",
     "output_type": "stream",
     "text": [
      "xyz\n"
     ]
    }
   ],
   "source": [
    "3. Make yet another class called, of course, Thing3. This time, assign the value 'xyz' to an instance (object) attribute called letters. Print letters.\n",
    "Do you need to make an object from the class to do this?\n",
    "Ans.\n",
    "class Thing3:\n",
    "    def __init__(self):\n",
    "        self.letters =\"xyz\"\n",
    "#print(Thing3.letters) does not work because its need object \n",
    "obj=Thing3()\n",
    "print(obj.letters)"
   ]
  },
  {
   "cell_type": "code",
   "execution_count": 4,
   "id": "a4f33ead",
   "metadata": {},
   "outputs": [
    {
     "name": "stdout",
     "output_type": "stream",
     "text": [
      "Hydrogen H 1\n"
     ]
    }
   ],
   "source": [
    "4. Create an Element class with the instance attributes name, symbol, and number. Create a class object with the \n",
    "values 'Hydrogen,' 'H,' and 1.\n",
    "Ans.\n",
    "class Element:\n",
    "    def __init__(self,name,symbol,number):\n",
    "        self.name = name\n",
    "        self.symbol = symbol\n",
    "        self.number = number\n",
    "obj = Element(\"Hydrogen\",\"H\",1)\n",
    "print(obj.name,obj.symbol,obj.number)"
   ]
  },
  {
   "cell_type": "code",
   "execution_count": 5,
   "id": "1a23dda0",
   "metadata": {},
   "outputs": [
    {
     "name": "stdout",
     "output_type": "stream",
     "text": [
      "Hydrogen H 1\n"
     ]
    }
   ],
   "source": [
    "5. Make a dictionary with these keys and values: 'name': 'Hydrogen', 'symbol': 'H', 'number': 1. Then,\n",
    "create an object called hydrogen from class Element using this dictionary.\n",
    "Ans.\n",
    "\n",
    "dictt={\"name\":\"Hydrogen\",\"symbol\":\"H\",\"number\":1}\n",
    "hydrogen=Element(**dictt)\n",
    "print(hydrogen.name,hydrogen.symbol,hydrogen.number)"
   ]
  },
  {
   "cell_type": "code",
   "execution_count": 6,
   "id": "6de0a877",
   "metadata": {},
   "outputs": [
    {
     "name": "stdout",
     "output_type": "stream",
     "text": [
      "Hydrogen H 1\n"
     ]
    }
   ],
   "source": [
    "6. For the Element class, define a method called dump() that prints the values of the object’s attributes (name, symbol, and number). \n",
    "Create the hydrogen object from this new definition and use dump() to print its attributes.\n",
    "Ans.\n",
    "\n",
    "class Element:\n",
    "    def __init__(self,name,symbol,number):\n",
    "        self.name=name\n",
    "        self.symbol=symbol\n",
    "        self.number=number\n",
    "    def dump(self):\n",
    "        print(self.name,self.symbol,self.number)\n",
    "hydrogen=Element(\"Hydrogen\",\"H\",\"1\")\n",
    "hydrogen.dump()"
   ]
  },
  {
   "cell_type": "code",
   "execution_count": 18,
   "id": "9549de8d",
   "metadata": {},
   "outputs": [
    {
     "name": "stdout",
     "output_type": "stream",
     "text": [
      "name= Hydrogen,symbol= H,number= 1\n",
      "name= Hydrogen,symbol= H,number= 1\n"
     ]
    }
   ],
   "source": [
    "7. Call print(hydrogen). In the definition of Element, change the name of method dump to __str__, \n",
    "create a new hydrogen object, and call print(hydrogen) again.\n",
    "Ans.\n",
    "\n",
    "print(hydrogen)\n",
    "class Element:\n",
    "    def __init__(self,name,symbol,number):\n",
    "        self.name=name\n",
    "        self.symbol=symbol\n",
    "        self.number=number\n",
    "    def __str__(self):\n",
    "        return('name= %s,symbol= %s,number= %s' %\n",
    "               (self.name,self.symbol,self.number))\n",
    "hydrogen=Element(\"Hydrogen\",\"H\",1)\n",
    "print(hydrogen)"
   ]
  },
  {
   "cell_type": "code",
   "execution_count": 19,
   "id": "68d3f9c3",
   "metadata": {},
   "outputs": [],
   "source": [
    "8. Modify Element to make the attributes name, symbol, and number private. \n",
    "Define a getter property for each to return its value.\n",
    "Ans.\n",
    "\n",
    "class Element:\n",
    "    def __init__(self,name,symbol,number):\n",
    "        self.__name=name\n",
    "        self.__symbol=symbol\n",
    "        self.__number=number\n",
    "        \n",
    "    @property\n",
    "    def name(self):\n",
    "        return self.__name\n",
    "    @property\n",
    "    def symbol(self):\n",
    "        return self.__symbol\n",
    "    @property\n",
    "    def number(self):\n",
    "        return self.__number"
   ]
  },
  {
   "cell_type": "code",
   "execution_count": 24,
   "id": "0440d3ac",
   "metadata": {},
   "outputs": [
    {
     "name": "stdout",
     "output_type": "stream",
     "text": [
      "Hydrogen H 1\n"
     ]
    }
   ],
   "source": [
    "hydrogen=Element(\"Hydrogen\",\"H\",1)\n",
    "print(hydrogen.name,hydrogen.symbol,hydrogen.number)"
   ]
  },
  {
   "cell_type": "code",
   "execution_count": null,
   "id": "e5d5106e",
   "metadata": {},
   "outputs": [],
   "source": [
    "9. Define three classes: Bear, Rabbit, and Octothorpe. For each, define only one method: eats(). \n",
    "This should return 'berries' (Bear), 'clover' (Rabbit), or 'campers' (Octothorpe). Create one object \n",
    "from each and print what it eats.\n",
    "Ans."
   ]
  },
  {
   "cell_type": "code",
   "execution_count": 25,
   "id": "329d283b",
   "metadata": {},
   "outputs": [
    {
     "name": "stdout",
     "output_type": "stream",
     "text": [
      "berries clover campers\n"
     ]
    }
   ],
   "source": [
    "class Bear:\n",
    "    def eats(self):\n",
    "        return \"berries\"\n",
    "    \n",
    "class Rabbit:\n",
    "    def eats(self):\n",
    "        return \"clover\"\n",
    "\n",
    "class Octothorpe:\n",
    "    def eats(self):\n",
    "        return \"campers\"\n",
    "bear =Bear()\n",
    "rabbit=Rabbit()\n",
    "octo=Octothorpe()\n",
    "print(bear.eats(),rabbit.eats(),octo.eats())"
   ]
  },
  {
   "cell_type": "code",
   "execution_count": 29,
   "id": "74510e53",
   "metadata": {},
   "outputs": [],
   "source": [
    "10. Define these classes: Laser, Claw, and SmartPhone. Each has only one method: does().\n",
    "This returns 'disintegrate' (Laser), 'crush' (Claw), or 'ring' (SmartPhone). Then,\n",
    "define the class Robot that has one instance (object) of each of these. Define a does() \n",
    "method for the Robot that prints what its component objects do.\n",
    "Ans.\n",
    "class Laser:\n",
    "    def does(self):\n",
    "        return \"didintergrate\"\n",
    "class Claw:\n",
    "    def does(self):\n",
    "        return \"crush\"\n",
    "class Smartphone:\n",
    "    def does(self):\n",
    "        return \"ring\"\n",
    "class Robot:\n",
    "    def __init__(self):\n",
    "        self.laser=Laser()\n",
    "        self.claw=Claw()\n",
    "        self.smartPhone =Smartphone()\n",
    "    def does(self):\n",
    "        print(f'Laser:{self.laser.does()}')\n",
    "        print(f'Claw:{self.claw.does()}')\n",
    "        print(f'Smartphone:{self.smartPhone.does()}')"
   ]
  },
  {
   "cell_type": "code",
   "execution_count": 31,
   "id": "92109bcf",
   "metadata": {},
   "outputs": [
    {
     "name": "stdout",
     "output_type": "stream",
     "text": [
      "Laser:didintergrate\n",
      "Claw:crush\n",
      "Smartphone:ring\n"
     ]
    }
   ],
   "source": [
    "robo=Robot()\n",
    "robo.does()"
   ]
  }
 ],
 "metadata": {
  "kernelspec": {
   "display_name": "Python 3 (ipykernel)",
   "language": "python",
   "name": "python3"
  },
  "language_info": {
   "codemirror_mode": {
    "name": "ipython",
    "version": 3
   },
   "file_extension": ".py",
   "mimetype": "text/x-python",
   "name": "python",
   "nbconvert_exporter": "python",
   "pygments_lexer": "ipython3",
   "version": "3.9.7"
  }
 },
 "nbformat": 4,
 "nbformat_minor": 5
}
