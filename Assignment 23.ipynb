{
 "cells": [
  {
   "cell_type": "code",
   "execution_count": 2,
   "id": "f1f1303c",
   "metadata": {},
   "outputs": [
    {
     "name": "stdout",
     "output_type": "stream",
     "text": [
      "1 2 8\n"
     ]
    }
   ],
   "source": [
    "1. What is the result of the code, and why?\n",
    "Ans.\n",
    "\n",
    ">>> def func(a, b=6, c=8):\n",
    "    print(a, b, c)\n",
    ">>> func(1, 2)\n",
    "\"\"\" func(1,2) will print 1,2,8 on the console because as per the function func \n",
    "defination,the vaue of the third parameter c is by default 8 is not passed explicitly\"\"\""
   ]
  },
  {
   "cell_type": "code",
   "execution_count": 3,
   "id": "571ea2f7",
   "metadata": {},
   "outputs": [
    {
     "name": "stdout",
     "output_type": "stream",
     "text": [
      "1 2 3\n"
     ]
    }
   ],
   "source": [
    "2. What is the result of this code, and why?\n",
    "\n",
    "Ans.\n",
    ">>> def func(a, b, c=5):\n",
    "    print(a, b, c)\n",
    ">>> func(1, c=3, b=2)\n",
    "\"\"\" thus the value passed to a is 1,b is 2 and c is 3 irrespective of the order of\n",
    "values c and b passed ,as long as you are using named arguments\"\"\""
   ]
  },
  {
   "cell_type": "code",
   "execution_count": 4,
   "id": "011607e0",
   "metadata": {},
   "outputs": [
    {
     "name": "stdout",
     "output_type": "stream",
     "text": [
      "1 (2, 3)\n"
     ]
    }
   ],
   "source": [
    "3. How about this code: what is its result, and why?\n",
    "Ans.\n",
    "\n",
    ">>> def func(a, *pargs):\n",
    "    print(a, pargs)\n",
    ">>> func(1, 2, 3)\n",
    "\"\"\" func(1,2,3) will print 1(2,3) to the console because the first parameter \n",
    "passed to the func function will be assigned to parameter a. Any other following argument\n",
    "pargs which will be an iterable object of type tuple\"\"\""
   ]
  },
  {
   "cell_type": "code",
   "execution_count": 5,
   "id": "1aa05f85",
   "metadata": {},
   "outputs": [
    {
     "name": "stdout",
     "output_type": "stream",
     "text": [
      "1 {'c': 3, 'b': 2}\n"
     ]
    }
   ],
   "source": [
    "4. What does this code print, and why?\n",
    "Ans.\n",
    "\n",
    ">>> def func(a, **kargs):\n",
    "    print(a, kargs)\n",
    ">>> func(a=1, c=3, b=2)\n",
    "\"\"\"func(a=1, c=3, b=2) will print 1 {'c': 3, 'b': 2} \n",
    "because the return type of kargs is a dictionary object\"\"\""
   ]
  },
  {
   "cell_type": "code",
   "execution_count": 8,
   "id": "bb809c3f",
   "metadata": {},
   "outputs": [
    {
     "name": "stdout",
     "output_type": "stream",
     "text": [
      "1 5 6 5\n"
     ]
    }
   ],
   "source": [
    "5. What gets printed by this, and explain?\n",
    "Ans.\n",
    "\n",
    ">>> def func(a, b, c=8, d=5):\n",
    "    print(a, b, c, d)\n",
    ">>> func(1, *(5,6))\n",
    "\"\"\"func(1, (5, 6)) will print 1 5 6 5 to the console. a will take the value of 1, d will default to 5 as it is not passed. (5, 6) will be read as \n",
    "comma seperated values and assigned to b, c respectively\"\"\""
   ]
  },
  {
   "cell_type": "code",
   "execution_count": null,
   "id": "c683eaf3",
   "metadata": {},
   "outputs": [],
   "source": [
    "6. what is the result of this, and explain?\n",
    ">>> def func(a, b, c): \n",
    "    a = 2;\n",
    "    b[0] = 'x'; \n",
    "    c['a'] = 'y'\n",
    "    l=1;\n",
    "    m=[1];\n",
    "    n={'a':0}\n",
    ">>> func(l, m, n)\n",
    ">>> l, m, n"
   ]
  },
  {
   "cell_type": "code",
   "execution_count": 2,
   "id": "7c3a135b",
   "metadata": {},
   "outputs": [
    {
     "data": {
      "text/plain": [
       "(1, ['x'], {'a': 'y'})"
      ]
     },
     "execution_count": 2,
     "metadata": {},
     "output_type": "execute_result"
    }
   ],
   "source": [
    ">>> def func(a, b, c): a = 2; b[0] = 'x'; c['a'] = 'y'\n",
    ">>> l=1; m=[1]; n={'a':0}\n",
    ">>> func(l, m, n)\n",
    "l, m, n"
   ]
  },
  {
   "cell_type": "code",
   "execution_count": null,
   "id": "dfdd293f",
   "metadata": {},
   "outputs": [],
   "source": []
  }
 ],
 "metadata": {
  "kernelspec": {
   "display_name": "Python 3 (ipykernel)",
   "language": "python",
   "name": "python3"
  },
  "language_info": {
   "codemirror_mode": {
    "name": "ipython",
    "version": 3
   },
   "file_extension": ".py",
   "mimetype": "text/x-python",
   "name": "python",
   "nbconvert_exporter": "python",
   "pygments_lexer": "ipython3",
   "version": "3.9.7"
  }
 },
 "nbformat": 4,
 "nbformat_minor": 5
}
