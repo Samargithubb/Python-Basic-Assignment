{
 "cells": [
  {
   "cell_type": "code",
   "execution_count": null,
   "id": "c4ff4d4d",
   "metadata": {},
   "outputs": [],
   "source": [
    "1. What advantages do Excel spreadsheets have over CSV spreadsheets?\n",
    "Ans.Reading large dataset is much easier in excel compared to csv, Excel \n",
    "provides the option for linking the data from external sources but not such\n",
    "features available in csv."
   ]
  },
  {
   "cell_type": "code",
   "execution_count": null,
   "id": "494b624c",
   "metadata": {},
   "outputs": [],
   "source": [
    "2.What do you pass to csv.reader() and csv.writer() to create reader\n",
    "and writer objects?\n",
    "Ans. file object"
   ]
  },
  {
   "cell_type": "code",
   "execution_count": null,
   "id": "25e3fb87",
   "metadata": {},
   "outputs": [],
   "source": [
    "3. What modes do File objects for reader and writer objects need to be opened\n",
    "in?\n",
    "Ans.'r'(read mode) for reader objects and 'w'(write mode) for writer objects"
   ]
  },
  {
   "cell_type": "code",
   "execution_count": null,
   "id": "a30f3c5d",
   "metadata": {},
   "outputs": [],
   "source": [
    "4. What method takes a list argument and writes it to a CSV file?\n",
    "Ans. The writerow() method."
   ]
  },
  {
   "cell_type": "code",
   "execution_count": null,
   "id": "de9d0ff3",
   "metadata": {},
   "outputs": [],
   "source": [
    "5. What do the keyword arguments delimiter and line terminator do?\n",
    "Ans.The delimiter argument changes the string used to separate cells in a row.\n",
    "The line terminator argument changes the string used to separate rows."
   ]
  },
  {
   "cell_type": "code",
   "execution_count": null,
   "id": "edbdb899",
   "metadata": {},
   "outputs": [],
   "source": [
    "6. What function takes a string of JSON data and returns a Python data\n",
    "structure?\n",
    "Ans.JSON.loads()\n"
   ]
  },
  {
   "cell_type": "code",
   "execution_count": null,
   "id": "7dc3f1ec",
   "metadata": {},
   "outputs": [],
   "source": [
    "7. What function takes a Python data structure and returns a string of \n",
    "JSON data?\n",
    "Ans.JSON.dumps()"
   ]
  }
 ],
 "metadata": {
  "kernelspec": {
   "display_name": "Python 3 (ipykernel)",
   "language": "python",
   "name": "python3"
  },
  "language_info": {
   "codemirror_mode": {
    "name": "ipython",
    "version": 3
   },
   "file_extension": ".py",
   "mimetype": "text/x-python",
   "name": "python",
   "nbconvert_exporter": "python",
   "pygments_lexer": "ipython3",
   "version": "3.9.7"
  }
 },
 "nbformat": 4,
 "nbformat_minor": 5
}
