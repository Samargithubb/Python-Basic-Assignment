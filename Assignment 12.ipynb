{
 "cells": [
  {
   "cell_type": "code",
   "execution_count": null,
   "id": "770a27ae",
   "metadata": {},
   "outputs": [],
   "source": [
    "1. In what modes should the PdfFileReader() and PdfFileWriter() File objects will be opened?\n",
    "Ans.PdfFileReader() should be opened in read-binary mode.\n",
    "PdfFileWriter() should be opened in write-binary mode."
   ]
  },
  {
   "cell_type": "code",
   "execution_count": null,
   "id": "8fb37c46",
   "metadata": {},
   "outputs": [],
   "source": [
    "2.From a PdfFileReader object,how do you get a Page object for page 5?\n",
    "Ans.PdfFileReader.getPage(5)"
   ]
  },
  {
   "cell_type": "code",
   "execution_count": null,
   "id": "8df1f6a7",
   "metadata": {},
   "outputs": [],
   "source": [
    "3.What PdfFileReader variable stores the number of pages in the PDF document?\n",
    "Ans. numPages"
   ]
  },
  {
   "cell_type": "code",
   "execution_count": null,
   "id": "4f0cdb51",
   "metadata": {},
   "outputs": [],
   "source": [
    "4. If a PdfFileReader object’s PDF is encrypted with the password swordfish,\n",
    "what must you do before you can obtain Page objects from it?\n",
    "Ans. obj.decrypt(\"swordish\")\n"
   ]
  },
  {
   "cell_type": "code",
   "execution_count": null,
   "id": "f753de33",
   "metadata": {},
   "outputs": [],
   "source": [
    "5.What methods do you use to rotate a page?\n",
    "Ans. rotateClockwise() and rotateCounterClockwise()"
   ]
  },
  {
   "cell_type": "code",
   "execution_count": null,
   "id": "7245d620",
   "metadata": {},
   "outputs": [],
   "source": [
    "6. What is th difference between a run object and a paragraph object?\n",
    "Ans. A document contains multiple paragraphs. A paragraph begins on a new line \n",
    "and contains multiple runs. Runs are contiguous groups of character within a \n",
    "paragraph."
   ]
  },
  {
   "cell_type": "code",
   "execution_count": null,
   "id": "614ebe5d",
   "metadata": {},
   "outputs": [],
   "source": [
    "7. How do you obtain a list of Paragraph objects for a Document object \n",
    "that’s stored in a variable named doc?\n",
    "Ans. doc.paragraphs"
   ]
  },
  {
   "cell_type": "code",
   "execution_count": null,
   "id": "5dbb3fe2",
   "metadata": {},
   "outputs": [],
   "source": [
    "8. What type of object has bold, underline, italic,strike, and outline\n",
    "variables?\n",
    "Ans. runs"
   ]
  },
  {
   "cell_type": "code",
   "execution_count": null,
   "id": "764ed195",
   "metadata": {},
   "outputs": [],
   "source": [
    "9. What is the difference between False, True, and None for the bold variable?\n",
    "Ans.True always makes the Run object bolded and False makes it always not \n",
    "bolded, no matter what the style's bold setting is. None will make the Run \n",
    "object just use the style's bold setting."
   ]
  },
  {
   "cell_type": "code",
   "execution_count": null,
   "id": "6142df27",
   "metadata": {},
   "outputs": [],
   "source": [
    "10. How do you create a Document object for a new Word document?\n",
    "Ans. import docx\n",
    "doc=docx.Document(docx file name)\n",
    "or we can create without giving name in start later on when we save it that\n",
    "time we can save it by name.\n",
    "doc= docx.Document()\n",
    "doc.save('new.docx')"
   ]
  },
  {
   "cell_type": "code",
   "execution_count": null,
   "id": "5260360a",
   "metadata": {},
   "outputs": [],
   "source": [
    "11.How do you add a paragraph with the text 'Hello, there!' to a Document \n",
    "object stored in a variable named doc?\n",
    "Ans.doc.add_paragraph('Hello, there!')"
   ]
  },
  {
   "cell_type": "code",
   "execution_count": null,
   "id": "dd482ac7",
   "metadata": {},
   "outputs": [],
   "source": [
    "12. What integers represent the levels of headings available in Word documents?\n",
    "Ans. The integers 0,1,2,3 and 4"
   ]
  }
 ],
 "metadata": {
  "kernelspec": {
   "display_name": "Python 3 (ipykernel)",
   "language": "python",
   "name": "python3"
  },
  "language_info": {
   "codemirror_mode": {
    "name": "ipython",
    "version": 3
   },
   "file_extension": ".py",
   "mimetype": "text/x-python",
   "name": "python",
   "nbconvert_exporter": "python",
   "pygments_lexer": "ipython3",
   "version": "3.9.7"
  }
 },
 "nbformat": 4,
 "nbformat_minor": 5
}
