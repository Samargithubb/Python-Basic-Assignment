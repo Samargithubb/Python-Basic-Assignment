{
 "cells": [
  {
   "cell_type": "code",
   "execution_count": null,
   "id": "35a882f1",
   "metadata": {},
   "outputs": [],
   "source": [
    "1. What are escape characters, and how do you use them?\n",
    "Ans. An escape character is a backlash \\ followed by the character you want\n",
    "to insert. we can use by putting backlash and after the character we want to \n",
    "insert. like \\n,\\t,\\b,\\' etc.\n"
   ]
  },
  {
   "cell_type": "code",
   "execution_count": null,
   "id": "017e11a7",
   "metadata": {},
   "outputs": [],
   "source": [
    "2. What do the escape characters n and t stand for?\n",
    "Ans.\\n stand for newline , \\t is a tab"
   ]
  },
  {
   "cell_type": "code",
   "execution_count": null,
   "id": "cd247aa6",
   "metadata": {},
   "outputs": [],
   "source": [
    "3. What is the way to include backslash characters in a string?\n",
    "Ans. the \\\\ escape character will represent a backlash character.\n"
   ]
  },
  {
   "cell_type": "code",
   "execution_count": null,
   "id": "38b9f8e3",
   "metadata": {},
   "outputs": [],
   "source": [
    "4. The string \"Howl's Moving Castle\" is a correct value. Why isn't the \n",
    "single quote character in the word Howl's not escaped a problem?\n",
    "Ans. The single quote in Howl's is fine because you've used double quotes to \n",
    "mark the beginning and end of the string."
   ]
  },
  {
   "cell_type": "code",
   "execution_count": null,
   "id": "340b08f2",
   "metadata": {},
   "outputs": [],
   "source": [
    "5. How do you write a string of newlines if you don't want to use the n \n",
    "character?\n",
    "Ans. there are multiline strings allow you to use newlines in strings.\n",
    "You can print strings without adding a new line with end=<character>,\n",
    "which <character> si the character that will be used to separate the lines"
   ]
  },
  {
   "cell_type": "code",
   "execution_count": null,
   "id": "af2651ff",
   "metadata": {},
   "outputs": [],
   "source": [
    "6. What are the values of the given expressions?\n",
    "'Hello, world!'[1]\n",
    "'Hello, world!'[0:5]\n",
    "'Hello, world!'[:5]\n",
    "'Hello, world!'[3:]\n",
    "Ans.'Hello, world!'[1] ='e'\n",
    "'Hello, world!'[0:5]   ='Hello'\n",
    "'Hello, world!'[:5]    ='Hello'\n",
    "'Hello, world!'[3:]    ='lo world!'"
   ]
  },
  {
   "cell_type": "code",
   "execution_count": null,
   "id": "6d5a75bf",
   "metadata": {},
   "outputs": [],
   "source": [
    "7. What are the values of the following expressions?\n",
    "'Hello'.upper()\n",
    "'Hello'.upper().isupper()\n",
    "'Hello'.upper().lower()\n",
    "Ans.'Hello'.upper()='HELLO'\n",
    "'Hello'.upper().isupper()=True\n",
    "'Hello'.upper().lower()='hello'\n"
   ]
  },
  {
   "cell_type": "code",
   "execution_count": null,
   "id": "e06b02e7",
   "metadata": {},
   "outputs": [],
   "source": [
    "8. What are the values of the following expressions?\n",
    "'Remember, remember, the fifth of July.'.split()\n",
    "'-'.join('There can only one.'.split())\n",
    "Ans. ['Remember,', 'remember,', 'the', 'fifth', 'of', 'November.']\n",
    "     'There-can-be-only-one.'"
   ]
  },
  {
   "cell_type": "code",
   "execution_count": null,
   "id": "f9794331",
   "metadata": {},
   "outputs": [],
   "source": [
    "9. What are the methods for right-justifying, left-justifying,and centering\n",
    "a string?\n",
    "Ans.The rjust(),ljust(),and center() string methods,respectively"
   ]
  },
  {
   "cell_type": "code",
   "execution_count": null,
   "id": "5691fb3c",
   "metadata": {},
   "outputs": [],
   "source": [
    "10. What is the best way to remove whitespace characters from the start or end?\n",
    "Ans.The lstrip() and rstrip() methods remove whitespace from the left and right\n",
    "ends of a string,respectively."
   ]
  }
 ],
 "metadata": {
  "kernelspec": {
   "display_name": "Python 3 (ipykernel)",
   "language": "python",
   "name": "python3"
  },
  "language_info": {
   "codemirror_mode": {
    "name": "ipython",
    "version": 3
   },
   "file_extension": ".py",
   "mimetype": "text/x-python",
   "name": "python",
   "nbconvert_exporter": "python",
   "pygments_lexer": "ipython3",
   "version": "3.9.7"
  }
 },
 "nbformat": 4,
 "nbformat_minor": 5
}
