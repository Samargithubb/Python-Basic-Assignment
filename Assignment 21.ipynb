{
 "cells": [
  {
   "cell_type": "code",
   "execution_count": 2,
   "id": "263c2e6e",
   "metadata": {},
   "outputs": [
    {
     "name": "stdout",
     "output_type": "stream",
     "text": [
      "2022-05-31\n"
     ]
    }
   ],
   "source": [
    "1. Add the current date to the text file today.txt as a string.\n",
    "Ans.\n",
    "\n",
    "from datetime import date\n",
    "with open(\"today.txt\",\"w\") as txt:\n",
    "    txt.write(date.today().isoformat())\n",
    "print(date.today().isoformat())"
   ]
  },
  {
   "cell_type": "code",
   "execution_count": 18,
   "id": "1afb38b6",
   "metadata": {},
   "outputs": [
    {
     "name": "stdout",
     "output_type": "stream",
     "text": [
      "2022-05-31\n"
     ]
    }
   ],
   "source": [
    "2. Read the text file today.txt into the string today_string\n",
    "Ans.\n",
    "today_string=\"\"\n",
    "with open(\"today.txt\",\"r\") as txt:\n",
    "    today_string=txt.readline()\n",
    "print(today_string)"
   ]
  },
  {
   "cell_type": "code",
   "execution_count": 19,
   "id": "0d9f02ea",
   "metadata": {},
   "outputs": [
    {
     "name": "stdout",
     "output_type": "stream",
     "text": [
      "2022-05-31 00:00:00\n"
     ]
    }
   ],
   "source": [
    "3. Parse the date from today_string.\n",
    "Ans.\n",
    "from datetime import datetime\n",
    "print(datetime.strptime(today_string,'%Y-%m-%d'))"
   ]
  },
  {
   "cell_type": "code",
   "execution_count": 28,
   "id": "97258b66",
   "metadata": {},
   "outputs": [
    {
     "data": {
      "text/plain": [
       "['.conda',\n",
       " '.condarc',\n",
       " '.continuum',\n",
       " '.idlerc',\n",
       " '.ipynb_checkpoints',\n",
       " '.ipython',\n",
       " '.jupyter',\n",
       " '.matplotlib',\n",
       " '3D Objects',\n",
       " 'airline.xls',\n",
       " 'anaconda3',\n",
       " 'andy.xls',\n",
       " 'AppData',\n",
       " 'Application Data',\n",
       " 'Assignment 1.ipynb',\n",
       " 'Assignment 10.ipynb',\n",
       " 'Assignment 11.ipynb',\n",
       " 'Assignment 12.ipynb',\n",
       " 'Assignment 13.ipynb',\n",
       " 'Assignment 14.ipynb',\n",
       " 'Assignment 15.ipynb',\n",
       " 'Assignment 16.ipynb',\n",
       " 'Assignment 17.ipynb',\n",
       " 'Assignment 18.ipynb',\n",
       " 'Assignment 19.ipynb',\n",
       " 'Assignment 2.ipynb',\n",
       " 'Assignment 20.ipynb',\n",
       " 'Assignment 21.ipynb',\n",
       " 'Assignment 3.ipynb',\n",
       " 'Assignment 4.ipynb',\n",
       " 'Assignment 5.ipynb',\n",
       " 'Assignment 6.ipynb',\n",
       " 'Assignment 7.ipynb',\n",
       " 'Assignment 9.ipynb',\n",
       " 'Assignment8.ipynb',\n",
       " 'bank',\n",
       " 'bank.zip',\n",
       " 'books.csv',\n",
       " 'books.db',\n",
       " 'car.data',\n",
       " 'Contacts',\n",
       " 'Cookies',\n",
       " 'data1.txt',\n",
       " 'database',\n",
       " 'database-journal',\n",
       " 'Documents',\n",
       " 'Downloads',\n",
       " 'exercise.ipynb',\n",
       " 'exersise.ipynb',\n",
       " 'Favorites',\n",
       " 'file.log',\n",
       " 'glass.data',\n",
       " 'image.png.png',\n",
       " 'IntelGraphicsProfiles',\n",
       " 'json2.csv',\n",
       " 'Links',\n",
       " 'list.log',\n",
       " 'list1.log',\n",
       " 'Local Settings',\n",
       " 'love.docx',\n",
       " 'lucid Excel.xlsx',\n",
       " 'LUSID Excel - Maintain a product in multiple currencies and share classes.xlsx',\n",
       " 'Music',\n",
       " 'My Documents',\n",
       " 'mydb',\n",
       " 'nanotube_logfile.log',\n",
       " 'NBA.csv',\n",
       " 'NetHood',\n",
       " 'new_size.png',\n",
       " 'Notes.ipynb',\n",
       " 'NTUSER.DAT',\n",
       " 'ntuser.dat.LOG1',\n",
       " 'ntuser.dat.LOG2',\n",
       " 'NTUSER.DAT{1c2b59c6-c5f5-11eb-bacb-000d3a96488e}.TM.blf',\n",
       " 'NTUSER.DAT{1c2b59c6-c5f5-11eb-bacb-000d3a96488e}.TMContainer00000000000000000001.regtrans-ms',\n",
       " 'NTUSER.DAT{1c2b59c6-c5f5-11eb-bacb-000d3a96488e}.TMContainer00000000000000000002.regtrans-ms',\n",
       " 'ntuser.ini',\n",
       " 'old folder',\n",
       " 'OneDrive',\n",
       " 'pandas.ipynb',\n",
       " 'Pandas_task',\n",
       " 'Pandas_task.zip',\n",
       " 'ping',\n",
       " 'png',\n",
       " 'practice.ipynb',\n",
       " 'PrintHood',\n",
       " 'PycharmProjects',\n",
       " 'Recent',\n",
       " 'SalesReport1.csv',\n",
       " 'Sales_April_2019.csv',\n",
       " 'Sales_Data',\n",
       " 'samar.ipynb',\n",
       " 'sample_test.csv',\n",
       " 'Saved Games',\n",
       " 'Searches',\n",
       " 'SendTo',\n",
       " 'Start Menu',\n",
       " 'Task.ipynb',\n",
       " 'tee.txt',\n",
       " 'Templates',\n",
       " 'test.txt',\n",
       " 'test1.log',\n",
       " 'test22.log',\n",
       " 'today.txt',\n",
       " 'Tracing',\n",
       " 'Untitled.ipynb',\n",
       " 'Untitled1.ipynb',\n",
       " 'Untitled2.ipynb',\n",
       " 'Untitled3.ipynb',\n",
       " 'Untitled4.ipynb',\n",
       " 'Untitled5.ipynb',\n",
       " 'Untitled6.ipynb',\n",
       " 'Videos',\n",
       " 'zoo.py',\n",
       " '__pycache__']"
      ]
     },
     "execution_count": 28,
     "metadata": {},
     "output_type": "execute_result"
    }
   ],
   "source": [
    "4.List the files in your current directory \n",
    "Ans\n",
    "\n",
    "import os \n",
    "os.listdir()"
   ]
  },
  {
   "cell_type": "code",
   "execution_count": null,
   "id": "9a8a6142",
   "metadata": {},
   "outputs": [],
   "source": [
    "5. Create a list of all of the files in your parent directory (minimum five files should be available).\n",
    "Ans."
   ]
  },
  {
   "cell_type": "code",
   "execution_count": 3,
   "id": "e9eda2af",
   "metadata": {},
   "outputs": [
    {
     "name": "stdout",
     "output_type": "stream",
     "text": [
      "<class 'list'>\n",
      "['.conda', '.condarc', '.continuum', '.idlerc', '.ipynb_checkpoints', '.ipython', '.jupyter', '.matplotlib', '3D Objects', 'airline.xls', 'anaconda3', 'andy.xls', 'AppData', 'Application Data', 'Assignment 1.ipynb', 'Assignment 10.ipynb', 'Assignment 11.ipynb', 'Assignment 12.ipynb', 'Assignment 13.ipynb', 'Assignment 14.ipynb', 'Assignment 15.ipynb', 'Assignment 16.ipynb', 'Assignment 17.ipynb', 'Assignment 18.ipynb', 'Assignment 19.ipynb', 'Assignment 2.ipynb', 'Assignment 20.ipynb', 'Assignment 21.ipynb', 'Assignment 3.ipynb', 'Assignment 4.ipynb', 'Assignment 5.ipynb', 'Assignment 6.ipynb', 'Assignment 7.ipynb', 'Assignment 9.ipynb', 'Assignment8.ipynb', 'bank', 'bank.zip', 'books.csv', 'books.db', 'car.data', 'Contacts', 'Cookies', 'data1.txt', 'database', 'database-journal', 'Documents', 'Downloads', 'exercise.ipynb', 'exersise.ipynb', 'Favorites', 'file.log', 'glass.data', 'image.png.png', 'IntelGraphicsProfiles', 'json2.csv', 'Links', 'list.log', 'list1.log', 'Local Settings', 'love.docx', 'lucid Excel.xlsx', 'LUSID Excel - Maintain a product in multiple currencies and share classes.xlsx', 'Music', 'My Documents', 'mydb', 'nanotube_logfile.log', 'NBA.csv', 'NetHood', 'new_size.png', 'Notes.ipynb', 'NTUSER.DAT', 'ntuser.dat.LOG1', 'ntuser.dat.LOG2', 'NTUSER.DAT{1c2b59c6-c5f5-11eb-bacb-000d3a96488e}.TM.blf', 'NTUSER.DAT{1c2b59c6-c5f5-11eb-bacb-000d3a96488e}.TMContainer00000000000000000001.regtrans-ms', 'NTUSER.DAT{1c2b59c6-c5f5-11eb-bacb-000d3a96488e}.TMContainer00000000000000000002.regtrans-ms', 'ntuser.ini', 'old folder', 'OneDrive', 'pandas.ipynb', 'Pandas_task', 'Pandas_task.zip', 'ping', 'png', 'practice.ipynb', 'PrintHood', 'PycharmProjects', 'Recent', 'SalesReport1.csv', 'Sales_April_2019.csv', 'Sales_Data', 'samar.ipynb', 'sample_test.csv', 'Saved Games', 'Searches', 'SendTo', 'Start Menu', 'Task.ipynb', 'tee.txt', 'Templates', 'test.txt', 'test1.log', 'test22.log', 'today.txt', 'Tracing', 'Untitled.ipynb', 'Untitled1.ipynb', 'Untitled2.ipynb', 'Untitled3.ipynb', 'Untitled4.ipynb', 'Untitled5.ipynb', 'Untitled6.ipynb', 'Videos', 'zoo.py', '__pycache__']\n",
      "Number of files:115\n"
     ]
    }
   ],
   "source": [
    "lst_files=os.listdir(\".\")\n",
    "print(type(lst_files))\n",
    "print(lst_files)\n",
    "print(f'Number of files:{len(lst_files)}')\n"
   ]
  },
  {
   "cell_type": "code",
   "execution_count": 2,
   "id": "4ceaca6d",
   "metadata": {},
   "outputs": [],
   "source": [
    "6. Use multiprocessing to create three separate processes. Make each one wait a random \n",
    "number of seconds between one and five, print the current time, and then exit.\n",
    "Ans."
   ]
  },
  {
   "cell_type": "code",
   "execution_count": 4,
   "id": "fc01b569",
   "metadata": {},
   "outputs": [
    {
     "name": "stdout",
     "output_type": "stream",
     "text": [
      "starting processes\n",
      "Process (n) will sleep for 3\n",
      "starting processes\n",
      "Process (n) will sleep for 3\n",
      "starting processes\n",
      "Process (n) will sleep for 2\n"
     ]
    }
   ],
   "source": [
    "import multiprocessing\n",
    "from datetime import datetime\n",
    "from time import sleep\n",
    "import random\n",
    "\n",
    "def now_sleep(seconds):\n",
    "    print(\"wait\",seconds,\"seconds,time is\", datetime.utcnow())\n",
    "    sleep(seconds)\n",
    "    print(\"Finished Process!\")\n",
    "\n",
    "if __name__== '__main__':\n",
    "    for n in range(3):\n",
    "        print(\"starting processes\")\n",
    "        seconds=random.randint(1,10)\n",
    "        print(f\"Process (n) will sleep for {seconds}\")\n",
    "        proc =multiprocessing.Process(target=now_sleep, args=(seconds,))\n",
    "        proc.start()\n",
    "        "
   ]
  },
  {
   "cell_type": "code",
   "execution_count": 7,
   "id": "9adc3f29",
   "metadata": {},
   "outputs": [
    {
     "name": "stdout",
     "output_type": "stream",
     "text": [
      "1998-11-09\n"
     ]
    }
   ],
   "source": [
    "7. Create a date object of your day of birth.\n",
    "Ans.\n",
    "\n",
    "my_birthday =date(1998,11,9)\n",
    "print(my_birthday)"
   ]
  },
  {
   "cell_type": "code",
   "execution_count": 9,
   "id": "02cd6dfb",
   "metadata": {},
   "outputs": [
    {
     "name": "stdout",
     "output_type": "stream",
     "text": [
      "My birthday was on 1th day of the week\n"
     ]
    }
   ],
   "source": [
    "8. What day of the week was your day of birth?\n",
    "Ans.\n",
    "\n",
    "print(f\"My birthday was on {my_birthday.isoweekday()}th day of the week\")"
   ]
  },
  {
   "cell_type": "code",
   "execution_count": null,
   "id": "cf77cc13",
   "metadata": {},
   "outputs": [],
   "source": [
    "9. When will you be (or when were you) 10,000 days old?\n",
    "Ans"
   ]
  },
  {
   "cell_type": "code",
   "execution_count": 10,
   "id": "1c586ac5",
   "metadata": {},
   "outputs": [
    {
     "name": "stdout",
     "output_type": "stream",
     "text": [
      "2026-03-27\n"
     ]
    }
   ],
   "source": [
    "from datetime import timedelta\n",
    "thousand_day=my_birthday + timedelta(days=10000)\n",
    "print(thousand_day)"
   ]
  },
  {
   "cell_type": "code",
   "execution_count": null,
   "id": "0ca4cfab",
   "metadata": {},
   "outputs": [],
   "source": []
  }
 ],
 "metadata": {
  "kernelspec": {
   "display_name": "Python 3 (ipykernel)",
   "language": "python",
   "name": "python3"
  },
  "language_info": {
   "codemirror_mode": {
    "name": "ipython",
    "version": 3
   },
   "file_extension": ".py",
   "mimetype": "text/x-python",
   "name": "python",
   "nbconvert_exporter": "python",
   "pygments_lexer": "ipython3",
   "version": "3.9.7"
  }
 },
 "nbformat": 4,
 "nbformat_minor": 5
}
