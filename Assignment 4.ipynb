{
 "cells": [
  {
   "cell_type": "code",
   "execution_count": null,
   "id": "48de6850",
   "metadata": {},
   "outputs": [],
   "source": [
    "1. What exactly is []?\n",
    "Ans.[]=is a empty list value, which is a list value that contains no items."
   ]
  },
  {
   "cell_type": "code",
   "execution_count": null,
   "id": "4f33df6c",
   "metadata": {},
   "outputs": [],
   "source": [
    "2. In a list of values stored in a variable called spam, how would you \n",
    "assign the value 'hello' as the third value? (Assume [2, 4, 6, 8, 10] are\n",
    "in spam.)\n",
    "Ans.spam[2]='hello' (the third value in a list is at index 2)"
   ]
  },
  {
   "cell_type": "code",
   "execution_count": null,
   "id": "e56d778d",
   "metadata": {},
   "outputs": [],
   "source": [
    "3.Let's pretend the spam includes the list ['a', 'b', 'c', 'd'] for the next \n",
    "three queries.\n",
    "spam[int(int('3' * 2) / 11)]\n",
    "Ans.spam[int(int('3' * 2) / 11)]\n",
    "=spam[3]\n",
    "='d'"
   ]
  },
  {
   "cell_type": "code",
   "execution_count": null,
   "id": "587c790b",
   "metadata": {},
   "outputs": [],
   "source": [
    "4. the spam includes the list ['a', 'b', 'c', 'd'] \n",
    "Ans.spam[-1]\n",
    "='d'(becuase negetive index count from end)"
   ]
  },
  {
   "cell_type": "code",
   "execution_count": null,
   "id": "97264446",
   "metadata": {},
   "outputs": [],
   "source": [
    "5.the spam includes the list ['a', 'b', 'c', 'd'] \n",
    "What is the value of spam[:2]?\n",
    "Ans.spam[:2]=['a','b']\n"
   ]
  },
  {
   "cell_type": "code",
   "execution_count": null,
   "id": "72b3d8e0",
   "metadata": {},
   "outputs": [],
   "source": [
    "6.Let's pretend bacon has the list [3.14, 'cat,' 11, 'cat,' True] for the\n",
    "next three questions.\n",
    "What is the value of bacon.index('cat')?\n",
    "Ans.1"
   ]
  },
  {
   "cell_type": "code",
   "execution_count": null,
   "id": "29e8ff03",
   "metadata": {},
   "outputs": [],
   "source": [
    "7.bacon has the list [3.14, 'cat,' 11, 'cat,' True]\n",
    "How does bacon.append(99) change the look of the list value in bacon?\n",
    "Ans. It will append the list and store the value at last index\n",
    "[3.14, 'cat', 11, 'cat', True, 99]"
   ]
  },
  {
   "cell_type": "code",
   "execution_count": null,
   "id": "ee344656",
   "metadata": {},
   "outputs": [],
   "source": [
    "8.bacon has the list [3.14, 'cat,' 11, 'cat,' True]\n",
    "How does bacon.remove('cat') change the look of the list in bacon?\n",
    "Ans,[3.14, 11, 'cat', True]"
   ]
  },
  {
   "cell_type": "code",
   "execution_count": null,
   "id": "f5069b55",
   "metadata": {},
   "outputs": [],
   "source": [
    "9. What are the list concatenation and list replication operators?\n",
    "Ans.The operator for list concatenation is +,while the operators for\n",
    "replication is *.(This is the same as for strings)"
   ]
  },
  {
   "cell_type": "code",
   "execution_count": null,
   "id": "00339d70",
   "metadata": {},
   "outputs": [],
   "source": [
    "10. What is difference between the list methods append() and insert()?\n",
    "Ans. While append() will add values only to the end of a list ,insert() can \n",
    "add them anywhere in the list."
   ]
  },
  {
   "cell_type": "code",
   "execution_count": null,
   "id": "2b461c69",
   "metadata": {},
   "outputs": [],
   "source": [
    "11. What are the two methods for removing items from a list?\n",
    "Ans. The del statement and the remove() list method are two ways to remove \n",
    "values from a list."
   ]
  },
  {
   "cell_type": "code",
   "execution_count": null,
   "id": "28cd545d",
   "metadata": {},
   "outputs": [],
   "source": [
    "12. Describe how list values and string values are identical.\n",
    "Ans.Both list and string can be passed to len(),have indexes and slices,be used\n",
    "in for loops,be conctenated or replicated, and be used with the in and not in \n",
    "operators."
   ]
  },
  {
   "cell_type": "code",
   "execution_count": null,
   "id": "2e91d5b0",
   "metadata": {},
   "outputs": [],
   "source": [
    "13. What's the difference between tuples and lists?\n",
    "Ans.Lists are mutable; they can have values added, removed,or changed. Tuples \n",
    "are immutable;they cannot be changed at all.Also,tuples are written using \n",
    "parentheses (), while lists use the square brackets[]."
   ]
  },
  {
   "cell_type": "code",
   "execution_count": null,
   "id": "1471875f",
   "metadata": {},
   "outputs": [],
   "source": [
    "14. How do you type a tuple value that only contains the integer 42?\n",
    "Ans.(42,)(The trailing comma is mandatory)"
   ]
  },
  {
   "cell_type": "code",
   "execution_count": null,
   "id": "bb2e084c",
   "metadata": {},
   "outputs": [],
   "source": [
    "15. How do you get a list value's tuple form? How do you get a tuple value's\n",
    "list form?\n",
    "Ans.The tuple() and list[] functions,respectively"
   ]
  },
  {
   "cell_type": "code",
   "execution_count": null,
   "id": "d200c16d",
   "metadata": {},
   "outputs": [],
   "source": [
    "16. Variables that \"contain\" list values are not necessarily lists \n",
    "themselves. Instead, what do they contain?\n",
    "Ans.They contain references to list values."
   ]
  },
  {
   "cell_type": "code",
   "execution_count": null,
   "id": "a086920b",
   "metadata": {},
   "outputs": [],
   "source": [
    "17. How do you distinguish between copy.copy() and copy.deepcopy()?\n",
    "Ans.The copy.copy() function will do a shallow copy of a list, while the \n",
    "copy.deepcopy() function will do a deep copy of a list. That is, only \n",
    "copy.deepcopy() will duplicate any lists inside the list."
   ]
  }
 ],
 "metadata": {
  "kernelspec": {
   "display_name": "Python 3 (ipykernel)",
   "language": "python",
   "name": "python3"
  },
  "language_info": {
   "codemirror_mode": {
    "name": "ipython",
    "version": 3
   },
   "file_extension": ".py",
   "mimetype": "text/x-python",
   "name": "python",
   "nbconvert_exporter": "python",
   "pygments_lexer": "ipython3",
   "version": "3.9.7"
  }
 },
 "nbformat": 4,
 "nbformat_minor": 5
}
