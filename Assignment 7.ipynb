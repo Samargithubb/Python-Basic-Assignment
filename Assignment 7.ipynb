{
 "cells": [
  {
   "cell_type": "code",
   "execution_count": null,
   "id": "7fbf98a0",
   "metadata": {},
   "outputs": [],
   "source": [
    "1. What is the name of the feature responsible for generating Regex objects?\n",
    "Ans. The re.compile() function returns Regex objects"
   ]
  },
  {
   "cell_type": "code",
   "execution_count": null,
   "id": "086dd895",
   "metadata": {},
   "outputs": [],
   "source": [
    "2. Why do raw strings often appear in Regex objects?\n",
    "Ans. Raw strings are used so that backlashes do not have to be escaped.It keeps \n",
    "regular expressions meaningfull and confusion free."
   ]
  },
  {
   "cell_type": "code",
   "execution_count": null,
   "id": "ccd17a1f",
   "metadata": {},
   "outputs": [],
   "source": [
    "3. What is the return value of the search() method?\n",
    "Ans. It will return the match objects."
   ]
  },
  {
   "cell_type": "code",
   "execution_count": null,
   "id": "ec485c39",
   "metadata": {},
   "outputs": [],
   "source": [
    "4. From a Match item, how do you get the actual strings that match the pattern?\n",
    "Ans. The group() method returns strings of the matched text."
   ]
  },
  {
   "cell_type": "code",
   "execution_count": null,
   "id": "9f77b17d",
   "metadata": {},
   "outputs": [],
   "source": [
    "5. In the regex which created from the r'(\\d\\d\\d)-(\\d\\d\\d-\\d\\d\\d\\d)', what does\n",
    "group zero cover? Group 2? Group 1?\n",
    "Ans. Group 0 is the entire match, group 1 covers the first set of parentheses,\n",
    "and gruop 2 covers the second set of parentheses."
   ]
  },
  {
   "cell_type": "code",
   "execution_count": null,
   "id": "4deac141",
   "metadata": {},
   "outputs": [],
   "source": [
    "6. In standard expression syntax, parentheses and intervals have distinct \n",
    "meanings. How can you tell a regex that you want it to fit real parentheses \n",
    "and periods?\n",
    "Ans.Periods and parentheses can be escaped with backslash: \\.,\\( and \\)."
   ]
  },
  {
   "cell_type": "code",
   "execution_count": null,
   "id": "319c084d",
   "metadata": {},
   "outputs": [],
   "source": [
    "7. The findall() method returns a string list or a list of string tuples.\n",
    "What causes it to return one of the two options?\n",
    "Ans.If the regex has no groups,a list of strings is returned. If the regex has\n",
    "groups,a list of tuples of strings is returned."
   ]
  },
  {
   "cell_type": "code",
   "execution_count": null,
   "id": "3255aea8",
   "metadata": {},
   "outputs": [],
   "source": [
    "8. In standard expressions, what does the | character mean?\n",
    "Ans. The | charecter signigies matching \"either,or\" between two groups.\n"
   ]
  },
  {
   "cell_type": "code",
   "execution_count": null,
   "id": "61fecba2",
   "metadata": {},
   "outputs": [],
   "source": [
    "9. In regular expressions, what does the character stand for?\n",
    "Ans. A regular expression is a sequence of characters that specifies a search\n",
    "pattern in text."
   ]
  },
  {
   "cell_type": "code",
   "execution_count": null,
   "id": "e4e68d56",
   "metadata": {},
   "outputs": [],
   "source": [
    "10.In regular expressions, what is the difference between the + and * \n",
    "characters?\n",
    "Ans.The + matches one or more. The * matches zero or more.\n"
   ]
  },
  {
   "cell_type": "code",
   "execution_count": null,
   "id": "be48529c",
   "metadata": {},
   "outputs": [],
   "source": [
    "11. What is the difference between {4} and {4,5} in regular expression?\n",
    "Ans. The {4} matches exactly four instances of the preceding group.\n",
    "The {4,5} matches between four and five instances.\n"
   ]
  },
  {
   "cell_type": "code",
   "execution_count": null,
   "id": "28eec172",
   "metadata": {},
   "outputs": [],
   "source": [
    "12. What do you mean by the \\d, \\w, and \\s shorthand character classes signify \n",
    "in regular expressions?\n",
    "Ans.The \\d,\\w and \\s shorthand character classes match a single character match a single\n",
    " digit, word[a-zA-Z0-9], or space character,respectively."
   ]
  },
  {
   "cell_type": "code",
   "execution_count": null,
   "id": "ce29bbff",
   "metadata": {},
   "outputs": [],
   "source": [
    "13. What do means by \\D, \\W, and \\S shorthand character classes signify\n",
    "in regular expressions?\n",
    "Ans.The \\D, \\W, and \\S shorthand character classes match a single character \n",
    "that is not a digit,word[^a-zA-Z0-9], or space character, respectively."
   ]
  },
  {
   "cell_type": "code",
   "execution_count": null,
   "id": "6fcb6612",
   "metadata": {},
   "outputs": [],
   "source": [
    "14. What is the difference between .*? and .*?\n",
    "Ans.(.*?) matches any character(.)any number of times(*)as few times as possible\n",
    "to make the regex match (?)\n",
    "(.*)? captures a group zero or one times(?).that group consists of a run of any \n",
    "length(*) of any character(.)"
   ]
  },
  {
   "cell_type": "code",
   "execution_count": null,
   "id": "ee27147a",
   "metadata": {},
   "outputs": [],
   "source": [
    "15. What is the syntax for matching both numbers and lowercase letters with a \n",
    "character class?\n",
    "Ans. Either [0-9a-z] or [a-z0-9]"
   ]
  },
  {
   "cell_type": "code",
   "execution_count": null,
   "id": "efa7bda2",
   "metadata": {},
   "outputs": [],
   "source": [
    "16. What is the procedure for making a normal expression in regax case \n",
    "insensitive?\n",
    "Ans.Passing re.I or re.IGNORECASE as the second argument to re.compile()will \n",
    "make the amtching case insensitive."
   ]
  },
  {
   "cell_type": "code",
   "execution_count": null,
   "id": "33543de2",
   "metadata": {},
   "outputs": [],
   "source": [
    "17. What does the . character normally match? What does it match if re.DOTALL\n",
    "is passed as 2nd argument in re.compile()?\n",
    "Ans. The . character normally matches any character except the newline \n",
    "character. if re.DOTALL is passed as the second argument to re.compile(), then \n",
    "the dot will also match newline characters."
   ]
  },
  {
   "cell_type": "code",
   "execution_count": null,
   "id": "128ad08d",
   "metadata": {},
   "outputs": [],
   "source": [
    "18. If numReg = re.compile(r'\\d+'), what will \n",
    "numRegex.sub('X', '11 drummers, 10 pipers, five rings, 4 hen') return?\n",
    "Ans.'X drummers, X pipers, five rings, X hens'"
   ]
  },
  {
   "cell_type": "code",
   "execution_count": null,
   "id": "e34d4453",
   "metadata": {},
   "outputs": [],
   "source": [
    "19. What does passing re.VERBOSE as the 2nd argument to re.compile() allow\n",
    "to do?\n",
    "Ans.The re.VERBOSE argument allows you to add whitespace and comments to the \n",
    "string passed to re.compile()."
   ]
  },
  {
   "cell_type": "code",
   "execution_count": null,
   "id": "ed7a1a9f",
   "metadata": {},
   "outputs": [],
   "source": [
    "20. How would you write a regex that match a number with comma for every three digits?\n",
    "It must match the given following:\n",
    "'42'\n",
    "'1,234'\n",
    "'6,368,745'\n",
    "but not the following:\n",
    "'12,34,567' (which has only two digits between the commas)\n",
    "'1234' (which lacks commas)\n",
    "Ans.re.compile(r'^\\d{1,3}(,\\d{3})*$') will create this regex, but other regex \n",
    "strings can produce a similar regular expression."
   ]
  },
  {
   "cell_type": "code",
   "execution_count": null,
   "id": "0058ae17",
   "metadata": {},
   "outputs": [],
   "source": [
    "21. How would you write a regex that matches the full name of someone whose\n",
    "last name is Watanabe? You can assume that the first name that comes before \n",
    "it will always be one word that begins with a capital letter. The regex must \n",
    "match the following:\n",
    "'Haruto Watanabe'\n",
    "'Alice Watanabe'\n",
    "'RoboCop Watanabe'\n",
    "but not the following:\n",
    "'haruto Watanabe' (where the first name is not capitalized)\n",
    "'Mr. Watanabe' (where the preceding word has a nonletter character)\n",
    "'Watanabe' (which has no first name)\n",
    "'Haruto watanabe' (where Watanabe is not capitalized)\n",
    "Ans.re.compiler(r'[A-Z][a-z]*\\sWatanabe)"
   ]
  },
  {
   "cell_type": "code",
   "execution_count": null,
   "id": "929d3cae",
   "metadata": {},
   "outputs": [],
   "source": [
    "22. How would you write a regex that matches a sentence where the first word\n",
    "is either Alice, Bob, or Carol; the second word is either eats, pets, or \n",
    "throws; the third word is apples, cats, or baseballs; and the sentence ends \n",
    "with a period? This regex should be case-insensitive. It must match the \n",
    "following:\n",
    "'Alice eats apples.'\n",
    "'Bob pets cats.'\n",
    "'Carol throws baseballs.'\n",
    "'Alice throws Apples.'\n",
    "'BOB EATS CATS.'\n",
    "but not the following:\n",
    "'RoboCop eats apples.'\n",
    "'ALICE THROWS FOOTBALLS.'\n",
    "'Carol eats 7 cats.'\n",
    "Ans. re.compiler(r'(Alice|Bob|Carol)\\s(eats|pets|throws)\\s(apples|cats|baseballs)\\.',re.|GNORECASE)"
   ]
  }
 ],
 "metadata": {
  "kernelspec": {
   "display_name": "Python 3 (ipykernel)",
   "language": "python",
   "name": "python3"
  },
  "language_info": {
   "codemirror_mode": {
    "name": "ipython",
    "version": 3
   },
   "file_extension": ".py",
   "mimetype": "text/x-python",
   "name": "python",
   "nbconvert_exporter": "python",
   "pygments_lexer": "ipython3",
   "version": "3.9.7"
  }
 },
 "nbformat": 4,
 "nbformat_minor": 5
}
