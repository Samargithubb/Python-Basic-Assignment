{
 "cells": [
  {
   "cell_type": "code",
   "execution_count": null,
   "id": "5b1696ca",
   "metadata": {},
   "outputs": [],
   "source": [
    "1. Why are functions advantageous to have in your programs?\n",
    "Ans.Functions reduce the need for duplicate code. This makes programs shorter,\n",
    "easier to read, and easier to update. Information hiding is also the advantages \n",
    "of function."
   ]
  },
  {
   "cell_type": "code",
   "execution_count": null,
   "id": "df19e3c7",
   "metadata": {},
   "outputs": [],
   "source": [
    "2.When does the code in a function run: when it's specified or when it's called?\n",
    "Ans the code in a function run when it is called, not when the function\n",
    "is defined"
   ]
  },
  {
   "cell_type": "code",
   "execution_count": null,
   "id": "26f68821",
   "metadata": {},
   "outputs": [],
   "source": [
    "3. What statement creates a function?\n",
    "Ans. The def statement defines (create) funtion."
   ]
  },
  {
   "cell_type": "code",
   "execution_count": null,
   "id": "447726d1",
   "metadata": {},
   "outputs": [],
   "source": [
    "4. What is the difference between a function and a function call?\n",
    "Ans. A function consists of the def statement and the code in its def clause.\n",
    "A function call is what moves the program execution into the function, and the \n",
    "function call evaluates to the function's return value.\n"
   ]
  },
  {
   "cell_type": "code",
   "execution_count": null,
   "id": "a19906c5",
   "metadata": {},
   "outputs": [],
   "source": [
    "5. How many global scopes are there in a Python program? How many local scopes?\n",
    "Ans. There is one global and one local scopes is created when a function \n",
    "is called."
   ]
  },
  {
   "cell_type": "code",
   "execution_count": null,
   "id": "2c3f43f3",
   "metadata": {},
   "outputs": [],
   "source": [
    "6. What happens to variables in a local scope when the function call returns?\n",
    "Ans.The local scope is destroyed, and all the variables in it are forgotten \n",
    "when a function returns."
   ]
  },
  {
   "cell_type": "code",
   "execution_count": null,
   "id": "6ad57b51",
   "metadata": {},
   "outputs": [],
   "source": [
    "7. What is the concept of a return value? Is it possible to have a return\n",
    "value in an expression?\n",
    "Ans.A return value is the value that a function call evaluates to.\n",
    "yes it is possible to have a return value in an expression like any value."
   ]
  },
  {
   "cell_type": "code",
   "execution_count": null,
   "id": "87b5140c",
   "metadata": {},
   "outputs": [],
   "source": [
    "8. If a function does not have a return statement, what is the return value\n",
    "of a call to that function?\n",
    "Ans.if there is no return statement for a function,its return value is none."
   ]
  },
  {
   "cell_type": "code",
   "execution_count": null,
   "id": "3cb5d2af",
   "metadata": {},
   "outputs": [],
   "source": [
    "9. How do you make a function variable refer to the global variable?\n",
    "Ans.A global statement will force a variable in a function to refer to the \n",
    "global variable."
   ]
  },
  {
   "cell_type": "code",
   "execution_count": null,
   "id": "873f99d6",
   "metadata": {},
   "outputs": [],
   "source": [
    "10. What is the data type of None?\n",
    "Ans. The data type of None is NoneType."
   ]
  },
  {
   "cell_type": "code",
   "execution_count": null,
   "id": "f455c085",
   "metadata": {},
   "outputs": [],
   "source": [
    "11. What does the sentence import areallyourpetsnamederic do?\n",
    "Ans. The import statement imports a module named 'areallyourpetsnamederic'\n",
    "the given module is not real python module.\n"
   ]
  },
  {
   "cell_type": "code",
   "execution_count": null,
   "id": "69290ef1",
   "metadata": {},
   "outputs": [],
   "source": [
    "12. If you had a bacon() feature in a spam module,what would you \n",
    "call it after importing spam?\n",
    "Ans. spam.bacon()"
   ]
  },
  {
   "cell_type": "code",
   "execution_count": null,
   "id": "953c0670",
   "metadata": {},
   "outputs": [],
   "source": [
    "13. What can you do to save a programme from crashing if it encounters\n",
    "an error?\n",
    "Ans.exception handling is good way to protect programme from crashing.\n",
    "we can use try clause."
   ]
  },
  {
   "cell_type": "code",
   "execution_count": null,
   "id": "cad794a9",
   "metadata": {},
   "outputs": [],
   "source": [
    "14. What is the purpose of the try clause? What is the purpose of the\n",
    "except clause?\n",
    "Ans. The code that could potentially cause an error goes in the try clause.\n",
    "The code that executes it an error happens goes in the except clause.\n"
   ]
  }
 ],
 "metadata": {
  "kernelspec": {
   "display_name": "Python 3 (ipykernel)",
   "language": "python",
   "name": "python3"
  },
  "language_info": {
   "codemirror_mode": {
    "name": "ipython",
    "version": 3
   },
   "file_extension": ".py",
   "mimetype": "text/x-python",
   "name": "python",
   "nbconvert_exporter": "python",
   "pygments_lexer": "ipython3",
   "version": "3.9.7"
  }
 },
 "nbformat": 4,
 "nbformat_minor": 5
}
