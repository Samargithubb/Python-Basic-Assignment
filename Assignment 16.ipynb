{
 "cells": [
  {
   "cell_type": "code",
   "execution_count": 1,
   "id": "fe0ed50a",
   "metadata": {},
   "outputs": [],
   "source": [
    "1. Create a list called years_list, starting with the year of your birth, and each year thereafter until the year of your fifth birthday. For example,\n",
    "if you were born in 1980. the list would be years_list = [1980, 1981, 1982, 1983, 1984, 1985].\n",
    "Ans.\n",
    "\n",
    "years_list=[1998,1999,2000,2001,2002,2003]"
   ]
  },
  {
   "cell_type": "code",
   "execution_count": 3,
   "id": "77af8b69",
   "metadata": {},
   "outputs": [
    {
     "data": {
      "text/plain": [
       "2001"
      ]
     },
     "execution_count": 3,
     "metadata": {},
     "output_type": "execute_result"
    }
   ],
   "source": [
    "2. In which year in years_list was your third birthday? Remember, you were 0 years of age for your first year.\n",
    "Ans.\n",
    "years_list[3]"
   ]
  },
  {
   "cell_type": "code",
   "execution_count": 5,
   "id": "a6ab5013",
   "metadata": {},
   "outputs": [
    {
     "data": {
      "text/plain": [
       "2003"
      ]
     },
     "execution_count": 5,
     "metadata": {},
     "output_type": "execute_result"
    }
   ],
   "source": [
    "3.In the years list, which year were you the oldest?\n",
    "Ans.\n",
    "\n",
    "years_list[-1]"
   ]
  },
  {
   "cell_type": "code",
   "execution_count": 6,
   "id": "5c8e75dd",
   "metadata": {},
   "outputs": [
    {
     "data": {
      "text/plain": [
       "['mozzarella', 'cinderella', 'salmonella']"
      ]
     },
     "execution_count": 6,
     "metadata": {},
     "output_type": "execute_result"
    }
   ],
   "source": [
    "4. Make a list called things with these three strings as elements: \"mozzarella\", \"cinderella\", \"salmonella\".\n",
    "Ans.\n",
    "\n",
    "things = [\"mozzarella\", \"cinderella\", \"salmonella\"]\n",
    "things"
   ]
  },
  {
   "cell_type": "code",
   "execution_count": 7,
   "id": "42dbbb9d",
   "metadata": {},
   "outputs": [
    {
     "name": "stdout",
     "output_type": "stream",
     "text": [
      "['mozzarella', 'cinderella', 'salmonella']\n",
      "Cinderella\n",
      "['mozzarella', 'cinderella', 'salmonella']\n"
     ]
    }
   ],
   "source": [
    "5. Capitalize the element in things that refers to a person and then print the list. Did it change the element in the list?\n",
    "Ans.\n",
    "\n",
    "print(things)\n",
    "things[1].capitalize()\n",
    "print(things[1].capitalize())\n",
    "print(things)\n",
    "# It does not change the list as assignment was not done when capitalizing"
   ]
  },
  {
   "cell_type": "code",
   "execution_count": 8,
   "id": "bc1fc5bc",
   "metadata": {},
   "outputs": [
    {
     "data": {
      "text/plain": [
       "['Groucho', 'Chico', 'Harpo']"
      ]
     },
     "execution_count": 8,
     "metadata": {},
     "output_type": "execute_result"
    }
   ],
   "source": [
    "6. Make a surprise list with the elements \"Groucho,\" \"Chico,\" and \"Harpo.\"\n",
    "Ans.\n",
    "surprise = [\"Groucho\", \"Chico\", \"Harpo\"]\n",
    "surprise"
   ]
  },
  {
   "cell_type": "code",
   "execution_count": 12,
   "id": "2fc91e67",
   "metadata": {},
   "outputs": [
    {
     "data": {
      "text/plain": [
       "['Groucho', 'Chico', 'Oprah']"
      ]
     },
     "execution_count": 12,
     "metadata": {},
     "output_type": "execute_result"
    }
   ],
   "source": [
    "7. Lowercase the last element of the surprise list, reverse it, and then capitalize it.\n",
    "Ans.\n",
    "\n",
    "surprise[-1]=surprise[-1][::-1]\n",
    "surprise[-1]=surprise[-1].capitalize()\n",
    "\n",
    "surprise"
   ]
  },
  {
   "cell_type": "code",
   "execution_count": 19,
   "id": "af2b1961",
   "metadata": {},
   "outputs": [
    {
     "name": "stdout",
     "output_type": "stream",
     "text": [
      "{'dog': 'chien', 'cat': 'chat', 'walrus': 'morse'}\n"
     ]
    }
   ],
   "source": [
    "8. Make an English-to-French dictionary called e2f and print it. Here are your starter words:\n",
    "dog is chien, cat is chat, and walrus is morse.\n",
    "Ans. \n",
    "\n",
    "e2f={\n",
    "    \"dog\":\"chien\",\n",
    "    \"cat\":\"chat\",\n",
    "    \"walrus\":\"morse\"\n",
    "}\n",
    "print(e2f)"
   ]
  },
  {
   "cell_type": "code",
   "execution_count": 21,
   "id": "a91c6070",
   "metadata": {},
   "outputs": [
    {
     "data": {
      "text/plain": [
       "'morse'"
      ]
     },
     "execution_count": 21,
     "metadata": {},
     "output_type": "execute_result"
    }
   ],
   "source": [
    "9. Write the French word for walrus in your three-word dictionary e2f. \n",
    "Ans.  e2f[\"walrus\"]"
   ]
  },
  {
   "cell_type": "code",
   "execution_count": 25,
   "id": "fee3c786",
   "metadata": {},
   "outputs": [
    {
     "name": "stdout",
     "output_type": "stream",
     "text": [
      "{'chien': 'dog', 'chat': 'cat', 'morse': 'walrus'}\n"
     ]
    }
   ],
   "source": [
    "10. Make a French-to-English dictionary called f2e from e2f. Use the items method.\n",
    "Ans. \n",
    "\n",
    "f2e={v:k for (k,v) in e2f.items()}\n",
    "print(f2e)"
   ]
  },
  {
   "cell_type": "code",
   "execution_count": 29,
   "id": "1277df1b",
   "metadata": {},
   "outputs": [
    {
     "data": {
      "text/plain": [
       "'dog'"
      ]
     },
     "execution_count": 29,
     "metadata": {},
     "output_type": "execute_result"
    }
   ],
   "source": [
    "11.Print the english version of the French word chien using f2e.\n",
    "Ans.\n",
    "\n",
    "f2e[\"chien\"]"
   ]
  },
  {
   "cell_type": "code",
   "execution_count": 30,
   "id": "767ffaf0",
   "metadata": {},
   "outputs": [
    {
     "name": "stdout",
     "output_type": "stream",
     "text": [
      "{'walrus', 'cat', 'dog'}\n"
     ]
    }
   ],
   "source": [
    "12. Make and print a set of English words from the keys in e2f.\n",
    "Ans.\n",
    "\n",
    "print(set(e2f.keys()))"
   ]
  },
  {
   "cell_type": "code",
   "execution_count": 32,
   "id": "19713d03",
   "metadata": {},
   "outputs": [
    {
     "name": "stdout",
     "output_type": "stream",
     "text": [
      "{'animals': {'cats': ['Henri', 'Grumpy', 'Lucy'], 'octopi': {}, 'emus': {}}, 'plants': {}, 'other': {}}\n"
     ]
    }
   ],
   "source": [
    "13. Make a multilevel dictionary called life. Use these strings for the topmost keys:\n",
    "    'animals', 'plants', and 'other'. Make the 'animals' key refer to another dictionary with\n",
    "    the keys 'cats', 'octopi', and 'emus'. Make the 'cats' key refer to a list of\n",
    "    strings with the values 'Henri', 'Grumpy', and 'Lucy'. Make all the other keys refer to empty dictionaries.\n",
    "Ans. \n",
    "\n",
    "lst_strs=[\"Henri\",\"Grumpy\",\"Lucy\"]\n",
    "animals={\n",
    "    \"cats\":lst_strs,\n",
    "    \"octopi\":{},\n",
    "    \"emus\":{}\n",
    "}\n",
    "life={\n",
    "    \"animals\":animals,\n",
    "    \"plants\":{},\n",
    "    \"other\":{}\n",
    "}\n",
    "print(life)"
   ]
  },
  {
   "cell_type": "code",
   "execution_count": 33,
   "id": "9e13350a",
   "metadata": {},
   "outputs": [
    {
     "name": "stdout",
     "output_type": "stream",
     "text": [
      "dict_keys(['animals', 'plants', 'other'])\n"
     ]
    }
   ],
   "source": [
    "14.Print the top-level keys of life.\n",
    "Ans\n",
    "\n",
    "print(life.keys())"
   ]
  },
  {
   "cell_type": "code",
   "execution_count": 34,
   "id": "a2a3794a",
   "metadata": {},
   "outputs": [
    {
     "name": "stdout",
     "output_type": "stream",
     "text": [
      "dict_keys(['cats', 'octopi', 'emus'])\n"
     ]
    }
   ],
   "source": [
    "15.Print the keys for life[\"animals\"].\n",
    "Ans.\n",
    "\n",
    "print(life[\"animals\"].keys())"
   ]
  },
  {
   "cell_type": "code",
   "execution_count": 35,
   "id": "09de7533",
   "metadata": {},
   "outputs": [
    {
     "data": {
      "text/plain": [
       "['Henri', 'Grumpy', 'Lucy']"
      ]
     },
     "execution_count": 35,
     "metadata": {},
     "output_type": "execute_result"
    }
   ],
   "source": [
    "16. Print the values for life[\"animals\"][\"cats\"]\n",
    "Ans.\n",
    "\n",
    "life[\"animals\"][\"cats\"]"
   ]
  }
 ],
 "metadata": {
  "kernelspec": {
   "display_name": "Python 3 (ipykernel)",
   "language": "python",
   "name": "python3"
  },
  "language_info": {
   "codemirror_mode": {
    "name": "ipython",
    "version": 3
   },
   "file_extension": ".py",
   "mimetype": "text/x-python",
   "name": "python",
   "nbconvert_exporter": "python",
   "pygments_lexer": "ipython3",
   "version": "3.9.7"
  }
 },
 "nbformat": 4,
 "nbformat_minor": 5
}
