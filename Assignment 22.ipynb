{
 "cells": [
  {
   "cell_type": "code",
   "execution_count": 3,
   "id": "79d7f0b0",
   "metadata": {},
   "outputs": [
    {
     "name": "stdout",
     "output_type": "stream",
     "text": [
      "iNeuron\n"
     ]
    },
    {
     "data": {
      "text/plain": [
       "''"
      ]
     },
     "execution_count": 3,
     "metadata": {},
     "output_type": "execute_result"
    }
   ],
   "source": [
    "1. What is the result of the code, and explain?\n",
    "Ans.\n",
    "\n",
    ">>> X = 'iNeuron'\n",
    ">>> def func():\n",
    "    print(X)\n",
    "\n",
    "\n",
    ">>> func()\n",
    "\"\"\" The above program will print iNeuron to the console as there is no local variable\n",
    "X in the function and the global variable X will be called\"\"\""
   ]
  },
  {
   "cell_type": "code",
   "execution_count": null,
   "id": "f48e2123",
   "metadata": {},
   "outputs": [],
   "source": [
    "2.What is the result of the code, and explain?\n",
    "Ans."
   ]
  },
  {
   "cell_type": "code",
   "execution_count": 6,
   "id": "da10648c",
   "metadata": {},
   "outputs": [
    {
     "name": "stdout",
     "output_type": "stream",
     "text": [
      "iNeuron\n"
     ]
    },
    {
     "data": {
      "text/plain": [
       "' The above program will print iNeuron to the console\\nAs the statement X=\"Ni!\" will be updating the local value X, but the global \\nvariable X will be unchanged'"
      ]
     },
     "execution_count": 6,
     "metadata": {},
     "output_type": "execute_result"
    }
   ],
   "source": [
    ">>> X = 'iNeuron'\n",
    ">>> def func():\n",
    "    X = 'NI!'\n",
    "\n",
    "\n",
    ">>> func()\n",
    ">>> print(X)\n",
    "\"\"\" The above program will print iNeuron to the console\n",
    "As the statement X=\"Ni!\" will be updating the local value X, but the global \n",
    "variable X will be unchanged\"\"\""
   ]
  },
  {
   "cell_type": "code",
   "execution_count": 19,
   "id": "41f64751",
   "metadata": {},
   "outputs": [
    {
     "name": "stdout",
     "output_type": "stream",
     "text": [
      "NI\n",
      "iNeuron\n"
     ]
    }
   ],
   "source": [
    "3. What does this code print, and why?\n",
    "Ans.\n",
    "\n",
    "X = 'iNeuron'\n",
    "def func():\n",
    "    X = 'NI'\n",
    "    print(X)\n",
    "\n",
    "func()\n",
    "print(X)\n",
    "\"\"\" The above program will print NI followed by iNeuron to the console as the\n",
    "statement X=\"NI\" will be updating the local value X and then printing it to the \n",
    "console,but the global variable X will be unchanged, therefore the next print statement\n",
    "will print the global variable X value which is iNeuron\"\"\""
   ]
  },
  {
   "cell_type": "code",
   "execution_count": 15,
   "id": "4b617c4d",
   "metadata": {},
   "outputs": [
    {
     "name": "stdout",
     "output_type": "stream",
     "text": [
      "NI\n"
     ]
    }
   ],
   "source": [
    "4. What output does this code produce? Why?\n",
    "Ans\n",
    "\n",
    "X = 'iNeuron' \n",
    "def func(): \n",
    "    global X \n",
    "    X = 'NI'\n",
    "\n",
    "func() \n",
    "print(X)\n",
    "\"\"\"The above program will print NI to the console. The statement global X will\n",
    "ensure the func function uses the global variable instead of a local variable \n",
    "with name X. Hence the assignment statement updates the global varaible X \n",
    "value to NI\"\"\""
   ]
  },
  {
   "cell_type": "code",
   "execution_count": null,
   "id": "cdf6a4ee",
   "metadata": {},
   "outputs": [],
   "source": [
    "5. What about this code—what’s the output, and why?\n",
    "Ans.\n",
    "X = 'iNeuron' \n",
    "def func(): \n",
    "    X = 'NI'\n",
    "def nested():\n",
    "    print(X) \n",
    "nested()\n",
    "\n",
    "func() \n",
    "X\n",
    "\"\"\"The above code will print NI followed by iNeuron, this is because the global\n",
    "varaible X is unchanged and the method nested has access to the X declared in its \n",
    "enclosing function func\"\"\""
   ]
  },
  {
   "cell_type": "code",
   "execution_count": null,
   "id": "cc0bf17d",
   "metadata": {},
   "outputs": [],
   "source": [
    "6. How about this code: what is its output in Python 3, and explain?\n",
    "Ans.\n",
    "def func():\n",
    "    X = 'NI'\n",
    "def nested():\n",
    "    nonlocal X\n",
    "    X = 'Spam'\n",
    "nested()\n",
    "print(X)\n",
    "\n",
    "\n",
    "func()\n",
    "\"\"\"The above code will print Spam to the console, as they keyword nonlocal helps the \n",
    "function nested() to access the variable X from the function fun\"\"\""
   ]
  }
 ],
 "metadata": {
  "kernelspec": {
   "display_name": "Python 3 (ipykernel)",
   "language": "python",
   "name": "python3"
  },
  "language_info": {
   "codemirror_mode": {
    "name": "ipython",
    "version": 3
   },
   "file_extension": ".py",
   "mimetype": "text/x-python",
   "name": "python",
   "nbconvert_exporter": "python",
   "pygments_lexer": "ipython3",
   "version": "3.9.7"
  }
 },
 "nbformat": 4,
 "nbformat_minor": 5
}
