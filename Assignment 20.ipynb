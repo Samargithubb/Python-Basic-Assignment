{
 "cells": [
  {
   "cell_type": "code",
   "execution_count": null,
   "id": "359cebd4",
   "metadata": {},
   "outputs": [],
   "source": [
    "1. Set the variable test1 to the string 'This is a test of the emergency text system,'\n",
    "and save test1 to a file named test.txt.\n",
    "Ans."
   ]
  },
  {
   "cell_type": "code",
   "execution_count": 1,
   "id": "69cafa4f",
   "metadata": {},
   "outputs": [],
   "source": [
    "test1=\"This is a test of the emergency text system\"\n",
    "my_file=open(\"test.txt\",\"w\")\n",
    "my_file.write(test1)\n",
    "my_file.close()"
   ]
  },
  {
   "cell_type": "code",
   "execution_count": 8,
   "id": "d66936c5",
   "metadata": {},
   "outputs": [
    {
     "name": "stdout",
     "output_type": "stream",
     "text": [
      "This is a test of the emergency text system\n",
      "Both are same\n"
     ]
    }
   ],
   "source": [
    "2. Read the contents of the file test.txt into the variable test2. \n",
    "Is there a difference between test 1 and test 2?\n",
    "Ans.\n",
    "\n",
    "read_file=open(\"test.txt\",\"r\")\n",
    "test2=read_file.readline()\n",
    "print(test2)\n",
    "read_file.close()\n",
    "if test1==test2:\n",
    "    print(\"Both are same\")"
   ]
  },
  {
   "cell_type": "code",
   "execution_count": null,
   "id": "fff65cb1",
   "metadata": {},
   "outputs": [],
   "source": [
    "3. Create a CSV file called books.csv by using these lines:\n",
    "title,author,year\n",
    "The Weirdstone of Brisingamen,Alan Garner,1960\n",
    "Perdido Street Station,China Miéville,2000\n",
    "Thud!,Terry Pratchett,2005\n",
    "The Spellman Files,Lisa Lutz,2007\n",
    "Small Gods,Terry Pratchett,1992\n",
    "Ans."
   ]
  },
  {
   "cell_type": "code",
   "execution_count": 11,
   "id": "f4ddf17e",
   "metadata": {},
   "outputs": [
    {
     "name": "stdout",
     "output_type": "stream",
     "text": [
      "title,author,year\r\n",
      "\n",
      "The Weirdstone of Brisingamen,Alan Garner,1960\r\n",
      "\n",
      "Perdido Street Station,China Miéville,2000\r\n",
      "\n",
      "Thud!,Terry Pratchett,2005\r\n",
      "\n",
      "The Spellman Files,Lisa Lutz,2007\r\n",
      "\n",
      "Small Gods,Terry Pratchett,1992\r\n",
      "\n"
     ]
    }
   ],
   "source": [
    "import csv\n",
    "rows=[[\"title\",\"author\",\"year\"],\n",
    "     ['The Weirdstone of Brisingamen','Alan Garner',1960],\n",
    "     ['Perdido Street Station','China Miéville',2000],\n",
    "     ['Thud!','Terry Pratchett',2005],\n",
    "     ['The Spellman Files','Lisa Lutz',2007],\n",
    "     ['Small Gods','Terry Pratchett',1992]]\n",
    "with open(\"books.csv\",\"w\",newline=\"\") as file:\n",
    "    writer=csv.writer(file)\n",
    "    writer.writerows(rows)\n",
    "with open(\"books.csv\",\"r\",newline=\"\") as file:\n",
    "    for line in file.readlines():\n",
    "        print(line)"
   ]
  },
  {
   "cell_type": "code",
   "execution_count": 13,
   "id": "0df202fb",
   "metadata": {},
   "outputs": [],
   "source": [
    "4. Use the sqlite3 module to create a SQLite database called books.db, and a table called books with these fields: \n",
    "title (text), author (text), and year (integer).\n",
    "Ans.\n",
    "\n",
    "import sqlite3\n",
    "conn=sqlite3.connect(\"books.db\")\n",
    "c=conn.cursor()\n",
    "c.execute(\"DROP TABLE IF EXISTS books\")\n",
    "c.execute(\"create table books(title varchar(12),author varchar(23),year int)\")\n",
    "conn.commit()"
   ]
  },
  {
   "cell_type": "code",
   "execution_count": 14,
   "id": "f7c19db3",
   "metadata": {},
   "outputs": [],
   "source": [
    "5. Read books.csv and insert its data into the book table.\n",
    "Ans.\n",
    "\n",
    "import pandas as pd\n",
    "\n",
    "read_books = pd.read_csv('books.csv',encoding='unicode_escape')\n",
    "read_books.to_sql('books', conn, if_exists='append', index = False)"
   ]
  },
  {
   "cell_type": "code",
   "execution_count": 15,
   "id": "bb9edc8f",
   "metadata": {},
   "outputs": [
    {
     "name": "stdout",
     "output_type": "stream",
     "text": [
      "[('Perdido Street Station',), ('Small Gods',), ('The Spellman Files',), ('The Weirdstone of Brisingamen',), ('Thud!',)]\n"
     ]
    }
   ],
   "source": [
    "6. Select and print the title column from the book table in alphabetical order.\n",
    "Ans.\n",
    "c.execute('select title from books order by title asc')\n",
    "print(c.fetchall())"
   ]
  },
  {
   "cell_type": "code",
   "execution_count": null,
   "id": "f613d034",
   "metadata": {},
   "outputs": [],
   "source": [
    "7. From the book table, select and print all columns in the order of publication.\n",
    "Ans."
   ]
  },
  {
   "cell_type": "code",
   "execution_count": 19,
   "id": "facb789d",
   "metadata": {},
   "outputs": [
    {
     "data": {
      "text/html": [
       "<div>\n",
       "<style scoped>\n",
       "    .dataframe tbody tr th:only-of-type {\n",
       "        vertical-align: middle;\n",
       "    }\n",
       "\n",
       "    .dataframe tbody tr th {\n",
       "        vertical-align: top;\n",
       "    }\n",
       "\n",
       "    .dataframe thead th {\n",
       "        text-align: right;\n",
       "    }\n",
       "</style>\n",
       "<table border=\"1\" class=\"dataframe\">\n",
       "  <thead>\n",
       "    <tr style=\"text-align: right;\">\n",
       "      <th></th>\n",
       "      <th>title</th>\n",
       "      <th>author</th>\n",
       "      <th>year</th>\n",
       "    </tr>\n",
       "  </thead>\n",
       "  <tbody>\n",
       "    <tr>\n",
       "      <th>0</th>\n",
       "      <td>The Weirdstone of Brisingamen</td>\n",
       "      <td>Alan Garner</td>\n",
       "      <td>1960</td>\n",
       "    </tr>\n",
       "    <tr>\n",
       "      <th>1</th>\n",
       "      <td>Small Gods</td>\n",
       "      <td>Terry Pratchett</td>\n",
       "      <td>1992</td>\n",
       "    </tr>\n",
       "    <tr>\n",
       "      <th>2</th>\n",
       "      <td>Perdido Street Station</td>\n",
       "      <td>China Miéville</td>\n",
       "      <td>2000</td>\n",
       "    </tr>\n",
       "    <tr>\n",
       "      <th>3</th>\n",
       "      <td>Thud!</td>\n",
       "      <td>Terry Pratchett</td>\n",
       "      <td>2005</td>\n",
       "    </tr>\n",
       "    <tr>\n",
       "      <th>4</th>\n",
       "      <td>The Spellman Files</td>\n",
       "      <td>Lisa Lutz</td>\n",
       "      <td>2007</td>\n",
       "    </tr>\n",
       "  </tbody>\n",
       "</table>\n",
       "</div>"
      ],
      "text/plain": [
       "                           title           author  year\n",
       "0  The Weirdstone of Brisingamen      Alan Garner  1960\n",
       "1                     Small Gods  Terry Pratchett  1992\n",
       "2         Perdido Street Station   China Miéville  2000\n",
       "3                          Thud!  Terry Pratchett  2005\n",
       "4             The Spellman Files        Lisa Lutz  2007"
      ]
     },
     "execution_count": 19,
     "metadata": {},
     "output_type": "execute_result"
    }
   ],
   "source": [
    "c.execute(\"select title,author,year from books order by year asc\")\n",
    "#c.fetchall()\n",
    "df=pd.DataFrame(c.fetchall(),columns=[\"title\",\"author\",\"year\"])\n",
    "df"
   ]
  },
  {
   "cell_type": "code",
   "execution_count": null,
   "id": "2b7478b0",
   "metadata": {},
   "outputs": [],
   "source": [
    "8. Use the sqlalchemy module to connect to the sqlite3 database books.db that\n",
    "you just made in exercise 6.\n",
    "Ans."
   ]
  },
  {
   "cell_type": "code",
   "execution_count": 12,
   "id": "e24fb978",
   "metadata": {},
   "outputs": [
    {
     "name": "stdout",
     "output_type": "stream",
     "text": [
      "('The Weirdstone of Brisingamen', 'Alan Garner', 1960)\n",
      "('Perdido Street Station', 'China Miéville', 2000)\n",
      "('Thud!', 'Terry Pratchett', 2005)\n",
      "('The Spellman Files', 'Lisa Lutz', 2007)\n",
      "('Small Gods', 'Terry Pratchett', 1992)\n"
     ]
    }
   ],
   "source": [
    "import sqlalchemy\n",
    "engine=sqlalchemy.create_engine(\"sqlite:///books.db\")\n",
    "rows=engine.execute(\"select * from books\")\n",
    "for i in rows:\n",
    "    print(i)"
   ]
  },
  {
   "cell_type": "code",
   "execution_count": null,
   "id": "e84ab3b7",
   "metadata": {},
   "outputs": [],
   "source": [
    "9. Install the Redis server and the Python redis library (pip install redis) on your computer. \n",
    "Create a Redis hash called test with the fields count (1) and name ('Fester Bestertester').\n",
    "Print all the fields for test.\n",
    "Ans."
   ]
  },
  {
   "cell_type": "code",
   "execution_count": 19,
   "id": "17b18e61",
   "metadata": {},
   "outputs": [
    {
     "name": "stdout",
     "output_type": "stream",
     "text": [
      "Requirement already satisfied: redis in c:\\users\\samar\\anaconda3\\lib\\site-packages (4.3.1)\n",
      "Requirement already satisfied: deprecated>=1.2.3 in c:\\users\\samar\\anaconda3\\lib\\site-packages (from redis) (1.2.13)\n",
      "Requirement already satisfied: async-timeout>=4.0.2 in c:\\users\\samar\\anaconda3\\lib\\site-packages (from redis) (4.0.2)\n",
      "Requirement already satisfied: packaging>=20.4 in c:\\users\\samar\\anaconda3\\lib\\site-packages (from redis) (21.0)\n",
      "Requirement already satisfied: wrapt<2,>=1.10 in c:\\users\\samar\\anaconda3\\lib\\site-packages (from deprecated>=1.2.3->redis) (1.12.1)\n",
      "Requirement already satisfied: pyparsing>=2.0.2 in c:\\users\\samar\\anaconda3\\lib\\site-packages (from packaging>=20.4->redis) (3.0.4)\n"
     ]
    }
   ],
   "source": [
    "!pip install redis"
   ]
  },
  {
   "cell_type": "code",
   "execution_count": 23,
   "id": "f0d69485",
   "metadata": {},
   "outputs": [],
   "source": [
    "import redis \n",
    "conn=redis.Redis()\n",
    "conn.delete('test')\n",
    "conn.hmset('test',{'count':1,'name':'Fester Bestertester'})\n",
    "conn.hgetall('test')"
   ]
  },
  {
   "cell_type": "code",
   "execution_count": null,
   "id": "4f6d193c",
   "metadata": {},
   "outputs": [],
   "source": [
    "10. Increment the count field of test and print it.\n",
    "Ans."
   ]
  },
  {
   "cell_type": "code",
   "execution_count": 24,
   "id": "e9cd60df",
   "metadata": {},
   "outputs": [],
   "source": [
    "conn.hincrby('test','count', 3)"
   ]
  }
 ],
 "metadata": {
  "kernelspec": {
   "display_name": "Python 3 (ipykernel)",
   "language": "python",
   "name": "python3"
  },
  "language_info": {
   "codemirror_mode": {
    "name": "ipython",
    "version": 3
   },
   "file_extension": ".py",
   "mimetype": "text/x-python",
   "name": "python",
   "nbconvert_exporter": "python",
   "pygments_lexer": "ipython3",
   "version": "3.9.7"
  }
 },
 "nbformat": 4,
 "nbformat_minor": 5
}
