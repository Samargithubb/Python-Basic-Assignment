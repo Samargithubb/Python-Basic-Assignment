{
 "cells": [
  {
   "cell_type": "code",
   "execution_count": null,
   "id": "bfb4c515",
   "metadata": {},
   "outputs": [],
   "source": [
    "1. What are the values of the Boolean data type? How do you write them?\n",
    "Ans.The values of the Boolean data type are True and False. We write using \n",
    "capital T and F(uppercase),with the rest of the word in lowercase\n"
   ]
  },
  {
   "cell_type": "code",
   "execution_count": null,
   "id": "ef9cdb17",
   "metadata": {},
   "outputs": [],
   "source": [
    "2. What are the three Boolean operators?\n",
    "Ans. The three boolean operators are and,or and not.\n"
   ]
  },
  {
   "cell_type": "code",
   "execution_count": null,
   "id": "7213c3c8",
   "metadata": {},
   "outputs": [],
   "source": [
    "3. Make a list of each Boolean operator's truth tables(i.e. every possible\n",
    "combination of Boolean values for the operator and what its evaluate ).\n",
    "Ans.# With the use of (and)\n",
    "True and True = True\n",
    "True and False =False\n",
    "False and False =False\n",
    "False and True=False\n",
    "  #With the use of (or)\n",
    "True or True =True\n",
    "True or False=True\n",
    "False or False=False\n",
    "False or True=True\n",
    "  #With the use of (not)\n",
    "not True =False\n",
    "not False=True"
   ]
  },
  {
   "cell_type": "code",
   "execution_count": null,
   "id": "8e9f811f",
   "metadata": {},
   "outputs": [],
   "source": [
    "4. What are the values of the following expressions?\n",
    "Ans.(5 > 4) and (3 == 5)              : False\n",
    "not (5 > 4)                           : False\n",
    "(5 > 4) or (3 == 5)                   : True\n",
    "not((5 > 4) or (3 == 5))              : False\n",
    "(True and True) and (True == False)   : False\n",
    "(not False) or (not True)             : True\n"
   ]
  },
  {
   "cell_type": "code",
   "execution_count": null,
   "id": "a52844dc",
   "metadata": {},
   "outputs": [],
   "source": [
    "5. What are the six comparison operators?\n",
    "Ans.1.==\n",
    "2. !=\n",
    "3. <\n",
    "4. >\n",
    "5. <=\n",
    "6. >="
   ]
  },
  {
   "cell_type": "code",
   "execution_count": null,
   "id": "554a66bd",
   "metadata": {},
   "outputs": [],
   "source": [
    "6. How do you tell the difference between the equal to and assignment operators?\n",
    "Describe a condition and when you would use one.\n",
    "Ans. == is the equal to operator that compares two values and evaluates to a \n",
    "boolean, while = is the assignment operator that stores a value in a variable.\n",
    "A condition is an expression used in a flow control statement that evaluates to \n",
    "a boolean value."
   ]
  },
  {
   "cell_type": "code",
   "execution_count": null,
   "id": "c4ba15a7",
   "metadata": {},
   "outputs": [],
   "source": [
    "7. Identify the three blocks in this code:\n",
    "spam = 0\n",
    "if spam == 10:\n",
    "    print('eggs')\n",
    "    if spam > 5:\n",
    "        print('bacon')\n",
    "    else:\n",
    "        print('ham')\n",
    "    print('spam')\n",
    "print('spam')\n",
    "\n",
    "Ans.The three blocks are everything inside the if statement and the lines \n",
    "print('bacon') and print('ham')\n",
    "\n",
    "print('eggs')\n",
    "if spam > 5:\n",
    "    print('bacon')\n",
    "else:\n",
    "    print('ham')\n",
    "print('spam')"
   ]
  },
  {
   "cell_type": "code",
   "execution_count": null,
   "id": "9ff26978",
   "metadata": {},
   "outputs": [],
   "source": [
    "8. Write code that prints Hello if 1 is stored in spam, prints Howdy \n",
    "if 2 is stored in spam, and prints Greetings! if anything else is stored\n",
    "in spam.\n",
    "Ans.\n",
    "if spam==1:\n",
    "    print('hello')\n",
    "elif spam==2:\n",
    "    print('Howdy')\n",
    "else:\n",
    "    print('Greetings!')"
   ]
  },
  {
   "cell_type": "code",
   "execution_count": null,
   "id": "186ec1f2",
   "metadata": {},
   "outputs": [],
   "source": [
    "9. If your programme is stuck in an endless loop, what keys you’ll press?\n",
    "Ans. Ctrl +c"
   ]
  },
  {
   "cell_type": "code",
   "execution_count": null,
   "id": "4b0c08f2",
   "metadata": {},
   "outputs": [],
   "source": [
    "10. How can you tell the difference between break and continue?\n",
    "Ans.The break statement will move the execution outside and just after a loop.\n",
    "The continue statement will move the execution to the start of the loop."
   ]
  },
  {
   "cell_type": "code",
   "execution_count": null,
   "id": "ca88d284",
   "metadata": {},
   "outputs": [],
   "source": [
    "11. In a for loop, what is the difference between range(10),\n",
    "range(0, 10), and range(0, 10, 1)?\n",
    "Ans.All do same thing. the range(10) call ranges from 0 up to 10 (but not including 10). \n",
    "range(0,10) explicitly tells the loop to start at 0\n",
    "range(0,10,1) explicitly tells the loop to increase the variable by 1 on each iteration."
   ]
  },
  {
   "cell_type": "code",
   "execution_count": null,
   "id": "1958ba56",
   "metadata": {},
   "outputs": [],
   "source": [
    "12. Write a short program that prints the numbers 1 to 10 using a for loop. Then write an equivalent program that prints the numbers 1 to 10 using a while loop.\n",
    "Ans.#by using for loop:\n",
    "\n",
    "for i in range(1,11):\n",
    "        print(i)\n",
    "            \n",
    "#by using while loop:\n",
    "\n",
    "i=1\n",
    "while(i<=10):\n",
    "    print(i)\n",
    "    i=i+1"
   ]
  },
  {
   "cell_type": "code",
   "execution_count": null,
   "id": "21cc4a0d",
   "metadata": {},
   "outputs": [],
   "source": [
    "13. If you had a function named bacon() inside a module named spam, how would \n",
    "you call it after importing spam?\n",
    "Ans. This funct can be called with spam.bacon()"
   ]
  }
 ],
 "metadata": {
  "kernelspec": {
   "display_name": "Python 3 (ipykernel)",
   "language": "python",
   "name": "python3"
  },
  "language_info": {
   "codemirror_mode": {
    "name": "ipython",
    "version": 3
   },
   "file_extension": ".py",
   "mimetype": "text/x-python",
   "name": "python",
   "nbconvert_exporter": "python",
   "pygments_lexer": "ipython3",
   "version": "3.9.7"
  }
 },
 "nbformat": 4,
 "nbformat_minor": 5
}
