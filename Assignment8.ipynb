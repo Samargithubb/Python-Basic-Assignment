{
 "cells": [
  {
   "cell_type": "code",
   "execution_count": null,
   "id": "ecce18da",
   "metadata": {},
   "outputs": [],
   "source": [
    "1. Is the Python Standard Library included with PyInputPlus?\n",
    "Ans.PyInputPlus is not a part of the python Standard Library.So,we have to \n",
    "install it separately using Pip (!pip install pyinputplus)"
   ]
  },
  {
   "cell_type": "code",
   "execution_count": null,
   "id": "bc7f2816",
   "metadata": {},
   "outputs": [],
   "source": [
    "2. Why is PyInputPlus commonly imported with import pyinputplus as pypi?\n",
    "Ans.pypi is alias of PyinputPlus.The as pyip code in the import statement saves\n",
    "us from typing pyinputplus each time we want to call a pyinputplus function.\n",
    "simply we can use pyip as shorter form."
   ]
  },
  {
   "cell_type": "code",
   "execution_count": null,
   "id": "e79316e8",
   "metadata": {},
   "outputs": [],
   "source": [
    "3. How do you distinguish between inputInt() and inputFloat()?\n",
    "Ans.Inputint()-Accepts an integer value and returns int value\n",
    "Inputfloat()-Accepts integer or floating point value and returns float value"
   ]
  },
  {
   "cell_type": "code",
   "execution_count": null,
   "id": "8e91c763",
   "metadata": {},
   "outputs": [],
   "source": [
    "4. Using PyInputPlus, how do you ensure that the user enters a whole \n",
    "number between 0 and 99?\n",
    "Ans.In the inputint fuction we can set the min=0 and max=99 to ensure user \n",
    "enters number between 0 and 99\n",
    "(pyip.inputInt(min=0,max=99))"
   ]
  },
  {
   "cell_type": "code",
   "execution_count": null,
   "id": "5dfae4d8",
   "metadata": {},
   "outputs": [],
   "source": [
    "5. What is transferred to the keyword arguments allowRegexes and blockRegexes?\n",
    "Ans.The allowRegexes and blockRegexes keyword arguments take a list of regular\n",
    "expression strings to determine what the PyInputplus function will accept or \n",
    "reject as valid input.\n",
    "(response=pyip.inputNum(allowRegexes=[r'(I|V|S|F)+',r'zero']) this will allow \n",
    " mention letters and no.too \n",
    " response = pyip.inputNum(blockRegexes=[r'[02468]$'])# blocks the even numbers"
   ]
  },
  {
   "cell_type": "code",
   "execution_count": null,
   "id": "e6dd248d",
   "metadata": {},
   "outputs": [],
   "source": [
    "6. If a blank input is entered three times, what does inputStr(limit=3) do?\n",
    "Ans. It will throw RetryLimitException exception\n",
    "response = pyip.inputStr(limit=3)"
   ]
  },
  {
   "cell_type": "code",
   "execution_count": null,
   "id": "d922f996",
   "metadata": {},
   "outputs": [],
   "source": [
    "7. If blank input is entered three times, what does inputStr(limit=3, \n",
    "default='hello') do?\n",
    "Ans.After exceding limit keyword arguments the function returns the default \n",
    "value instead of raising an exception which is 'hello'"
   ]
  }
 ],
 "metadata": {
  "kernelspec": {
   "display_name": "Python 3 (ipykernel)",
   "language": "python",
   "name": "python3"
  },
  "language_info": {
   "codemirror_mode": {
    "name": "ipython",
    "version": 3
   },
   "file_extension": ".py",
   "mimetype": "text/x-python",
   "name": "python",
   "nbconvert_exporter": "python",
   "pygments_lexer": "ipython3",
   "version": "3.9.7"
  }
 },
 "nbformat": 4,
 "nbformat_minor": 5
}
