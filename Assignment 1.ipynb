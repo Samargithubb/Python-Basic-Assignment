{
 "cells": [
  {
   "cell_type": "code",
   "execution_count": null,
   "id": "ed3e719e",
   "metadata": {},
   "outputs": [],
   "source": [
    "1. In the below elements which of them are values or an expression?\n",
    "Ans.\n",
    "* is a Expression\n",
    "'hello'is a  Value\n",
    "-87.8 is a Value\n",
    "-     is a Expression\n",
    "/     is a Expression\n",
    "+     is a Expression\n",
    "6     is a Value"
   ]
  },
  {
   "cell_type": "code",
   "execution_count": null,
   "id": "1e214edb",
   "metadata": {},
   "outputs": [],
   "source": [
    "2. What is the difference between string and variable?\n",
    "Ans.\n",
    "A variable is a store of information, and string is a \n",
    "type of information you would store in variable.A string is \n",
    "usually words which enclosed with '',\"\"(quotes)\n",
    "ex.\n",
    "X='Samar'\n",
    "Here x is variable and samar in string which is assign to variable(x)"
   ]
  },
  {
   "cell_type": "code",
   "execution_count": null,
   "id": "8f65806d",
   "metadata": {},
   "outputs": [],
   "source": [
    "3. Describe three different data types.\n",
    "Ans.\n",
    "a) string is a data type which is written between quotes.\n",
    "b) list is a data type which is written between []\n",
    "c)Tuple is a data type which is written between()"
   ]
  },
  {
   "cell_type": "code",
   "execution_count": null,
   "id": "6603851e",
   "metadata": {},
   "outputs": [],
   "source": [
    "4. What is an expression made up of? What do all expressions do?\n",
    "Ans.\n",
    "An expression is a combination of values,variable,operators and operands that is interpreted \n",
    "to produce some other value and displays the result.\n",
    "ex.  x=4\n",
    "     y=6\n",
    "     print(x,y,(x+y))\n",
    "     4,6,10"
   ]
  },
  {
   "cell_type": "code",
   "execution_count": null,
   "id": "20f73da1",
   "metadata": {},
   "outputs": [],
   "source": [
    "5. This assignment statements, like spam = 10. What is the difference between an\n",
    "expression and a statement?\n",
    "Ans.\n",
    "Expression is a combination of value and functions that are combined and interpreted \n",
    "by the compiler to create a new value on the other hand statement which is just a standalone unit \n",
    "of execution and doesn't return anything."
   ]
  },
  {
   "cell_type": "code",
   "execution_count": 5,
   "id": "1a720b84",
   "metadata": {},
   "outputs": [
    {
     "data": {
      "text/plain": [
       "23"
      ]
     },
     "execution_count": 5,
     "metadata": {},
     "output_type": "execute_result"
    }
   ],
   "source": [
    "'''6. After running the following code, what does the variable bacon contain?\n",
    "bacon = 22\n",
    "bacon + 1'''\n",
    "bacon = 22\n",
    "bacon + 1"
   ]
  },
  {
   "cell_type": "code",
   "execution_count": 6,
   "id": "c2e1683a",
   "metadata": {},
   "outputs": [
    {
     "data": {
      "text/plain": [
       "'spamspamspam'"
      ]
     },
     "execution_count": 6,
     "metadata": {},
     "output_type": "execute_result"
    }
   ],
   "source": [
    "'''7. What should the values of the following two terms be?\n",
    "'spam'+'spamspam'\n",
    "'spam'*3'''\n",
    "'spam'+'spamspam'\n",
    "'spam'*3"
   ]
  },
  {
   "cell_type": "code",
   "execution_count": null,
   "id": "3c110839",
   "metadata": {},
   "outputs": [],
   "source": [
    "8. Why is eggs a valid variable name while 100 is invalid?\n",
    "Ans.\n",
    "Because variable name cannot begin with number.we can add no after a alphabet \n",
    "like a100='samar'\n",
    "b100='singh'"
   ]
  },
  {
   "cell_type": "code",
   "execution_count": null,
   "id": "8f712ff1",
   "metadata": {},
   "outputs": [],
   "source": [
    "9. What three functions can be used to get the integer, floating-point number, or string\n",
    "version of a value?\n",
    "Ans.\n",
    " int(), float(),str()"
   ]
  },
  {
   "cell_type": "code",
   "execution_count": null,
   "id": "243f552d",
   "metadata": {},
   "outputs": [],
   "source": [
    "10. Why does this expression cause an error? How can you fix it?\n",
    "'i have eaten'+99+'burritos'\n",
    "Ans.\n",
    "This expression causes and error because in this line 'I have eaten'\n",
    "and 'burritos' are strings, while 99 is treated as integer.\n",
    "we can fix it by putting quotes. \n",
    "like='i have eaten'+'99'+'burritos'"
   ]
  }
 ],
 "metadata": {
  "kernelspec": {
   "display_name": "Python 3 (ipykernel)",
   "language": "python",
   "name": "python3"
  },
  "language_info": {
   "codemirror_mode": {
    "name": "ipython",
    "version": 3
   },
   "file_extension": ".py",
   "mimetype": "text/x-python",
   "name": "python",
   "nbconvert_exporter": "python",
   "pygments_lexer": "ipython3",
   "version": "3.9.7"
  }
 },
 "nbformat": 4,
 "nbformat_minor": 5
}
