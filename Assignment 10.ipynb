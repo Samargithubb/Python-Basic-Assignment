{
 "cells": [
  {
   "cell_type": "code",
   "execution_count": null,
   "id": "5c5895ea",
   "metadata": {},
   "outputs": [],
   "source": [
    "1. How do you distinguish between shutil.copy() and shutil.copytree()?\n",
    "Ans.The shutil.copy() will copy a single file,while shutil.copytree() will copy\n",
    "an entire foler,along with all its contents."
   ]
  },
  {
   "cell_type": "code",
   "execution_count": null,
   "id": "516627e1",
   "metadata": {},
   "outputs": [],
   "source": [
    "2. What function is used to rename files?\n",
    "Ans. The shutil.move() function is used for renaming files, as well as moving \n",
    "them."
   ]
  },
  {
   "cell_type": "code",
   "execution_count": null,
   "id": "7826b303",
   "metadata": {},
   "outputs": [],
   "source": [
    "3. What is the difference between the delete functions in the send2trash\n",
    "and shutil modules?\n",
    "Ans. send2trash function will move a file or folder to the recycle bin, while \n",
    "shutil functions will permanently delete files and folders"
   ]
  },
  {
   "cell_type": "code",
   "execution_count": null,
   "id": "31ebb7b3",
   "metadata": {},
   "outputs": [],
   "source": [
    "4.ZipFile objects have a close() method just like File objects’ close()\n",
    "method. What ZipFile method is equivalent to File objects’ open() method?\n",
    "Ans. The zipfile.Zipfile() function is equivalent to the open() function; the\n",
    "first argument is the filename,and the second argument is the mode to open the \n",
    "ZIP file in (read, write or append)"
   ]
  },
  {
   "cell_type": "markdown",
   "id": "5f5b5841",
   "metadata": {},
   "source": [
    "5.Create a programme that searches a folder tree for files with a certain file\n",
    "extension (such as .pdf or .jpg). Copy these files from whatever location they \n",
    "are in to a new folder.\n",
    "Sol."
   ]
  },
  {
   "cell_type": "code",
   "execution_count": 10,
   "id": "9e9a916e",
   "metadata": {},
   "outputs": [
    {
     "name": "stdout",
     "output_type": "stream",
     "text": [
      "Files have been successfully copied from C:\\old folder to C:\\New folder\n"
     ]
    }
   ],
   "source": [
    "def copyFile(src,dst,ext):\n",
    "    try:\n",
    "        import os,shutil\n",
    "        for file in os.listdir(src):\n",
    "            if file.endswith(ext):\n",
    "                shutil.copy(os.path.join(src,file),dst)\n",
    "        print(f'Files have been successfully copied from {src} to {dst}')\n",
    "    except Exception as e:\n",
    "        print(e)\n",
    "              \n",
    "copyFile(r'C:\\old folder',r'C:\\New folder','.pdf')"
   ]
  }
 ],
 "metadata": {
  "kernelspec": {
   "display_name": "Python 3 (ipykernel)",
   "language": "python",
   "name": "python3"
  },
  "language_info": {
   "codemirror_mode": {
    "name": "ipython",
    "version": 3
   },
   "file_extension": ".py",
   "mimetype": "text/x-python",
   "name": "python",
   "nbconvert_exporter": "python",
   "pygments_lexer": "ipython3",
   "version": "3.9.7"
  }
 },
 "nbformat": 4,
 "nbformat_minor": 5
}
