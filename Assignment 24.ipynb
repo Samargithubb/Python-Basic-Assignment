{
 "cells": [
  {
   "cell_type": "code",
   "execution_count": null,
   "id": "71a226f2",
   "metadata": {},
   "outputs": [],
   "source": [
    "1. What is the relationship between def statements and lambda expressions ?\n",
    "Ans. A lambda is an expression producing a function. A def is a statement \n",
    "producing function. def keyword is used to create named function in python,\n",
    "Function naming follows the same rules of writing identifiers in python\n",
    "lambdas are one line functions without a name,lamdas differ from normal python \n",
    "methods because they can have only one expression, and they can't contain any \n",
    "statement and their return type is a function object."
   ]
  },
  {
   "cell_type": "code",
   "execution_count": null,
   "id": "d6142957",
   "metadata": {},
   "outputs": [],
   "source": [
    "2. What is the benefit of lambda?\n",
    "Ans. Lambda functions allow us to create small, single-use function that can \n",
    "save time and space in your code. Some function are used temporarily, and we won't\n",
    " need them later. We use a lambda function to saving time for naming and get better\n",
    "readability.    "
   ]
  },
  {
   "cell_type": "code",
   "execution_count": null,
   "id": "27505597",
   "metadata": {},
   "outputs": [],
   "source": [
    "3. Compare and contrast map, filter, and reduce.\n",
    "Ans.\n",
    "Map applies as a transformation to an element. The map() function iterates through\n",
    "all items in the given iterable and executes the function we passed as an argument\n",
    "on each of them. Syntax: map(function, iterables(s))\n",
    "\n",
    "Filter accumulates only elements matching a condition. filter() forms a new list \n",
    "that contains only elememts that satisfy a certain condition, i.e. the function \n",
    "we passed returns True. Syntax: filter(funciton, iterable(s))\n",
    "\n",
    "Reduce accumulateds all the elements to a single value, by using immutable values\n",
    "reduce() works by calling the function we passed for the first two items in the\n",
    "sequence.The result returned by the function is used in another call to function\n",
    "alongside with next (third in this case), element. Syntax: reduce(function,sequence[initial])\n",
    "    "
   ]
  },
  {
   "cell_type": "code",
   "execution_count": null,
   "id": "8fcad33b",
   "metadata": {},
   "outputs": [],
   "source": [
    "4. What are function annotations, and how are they used?\n",
    "Ans.Function annotation is the standard way to access the metadata with the arguments \n",
    "and the return value of the function. These are optional Python expressions that get\n",
    "allied to different parts of the function. They get evaluated only during the\n",
    "compile-time and have no significance during the run-time of the code. They do not have \n",
    "any significance or meaning associated with them until accessed by some third-party\n",
    "libraries. They are used to type check the functions by declaring the type of the \n",
    "parameters and the return value for the functions. The string-based annotations help \n",
    "us to improve the help messages.\n",
    "\n",
    "Syntax : def func(a: 'int') -> 'int': pass\n",
    "\n",
    "Annotations for simple parameters: def func(x: 'float'=10.8, y: 'argument2'):\n",
    "In the above code the argument, ‘x’ of the function func, has been annotated to\n",
    "float data type and the argument ‘y’ has a string-based annotation. The argument\n",
    "can also be assigned to a default value using a ‘=’ symbol followed by the default value. \n",
    "These default values are optional to the code.\n",
    "\n",
    "Annotations for return values: def func(a: expression) -> 'int':\n",
    "The annotations for the return value is written after the ‘->’ symbol."
   ]
  },
  {
   "cell_type": "code",
   "execution_count": null,
   "id": "6626677c",
   "metadata": {},
   "outputs": [],
   "source": [
    "5. What are recursive functions, and how are they used?\n",
    "Ans. A recursive function  is a function that calls itself during its execution.\n",
    "This means that the function will continue to call itself and repeat its behavior\n",
    "until some condition is met to return a result.\n"
   ]
  },
  {
   "cell_type": "code",
   "execution_count": 7,
   "id": "18db6fd9",
   "metadata": {},
   "outputs": [
    {
     "data": {
      "text/plain": [
       "24"
      ]
     },
     "execution_count": 7,
     "metadata": {},
     "output_type": "execute_result"
    }
   ],
   "source": [
    "# example\n",
    "def fact(x):\n",
    "    if x == 1 :\n",
    "        return 1\n",
    "    else :\n",
    "        return x * fact(x-1) # recursion\n",
    "\n",
    "fact(4)"
   ]
  },
  {
   "cell_type": "code",
   "execution_count": null,
   "id": "4f738232",
   "metadata": {},
   "outputs": [],
   "source": [
    "6. What are some general design guidelines for coding functions?\n",
    "Ans.\n",
    "* Use 4-space indentation and no tabs.\n",
    "* Use docstrings.\n",
    "* Wrap line that exceed 79 characters\n",
    "* Use of regular and updated comments are valuable to both the coders and users\n",
    "* Use of trailing commas: in case of tuple ->(\"good\",)\n",
    "* Use Python's default UTF-8 or ASCII encodings and not any fancy encodings\n",
    "* Naming Conventions 8.Characters that should not be used for identifiers: ‘l’\n",
    "(lowercase letter el), ‘O’ (uppercase letter oh), ‘I’ (uppercase letter eye) as\n",
    "single character variable names as these are similar to the numerals one and zero.\n",
    "* Don’t use non-ASCII characters in identifiers\n",
    "* Name your classes and functions consistently\n",
    "* While naming of function of methods always use self for the first argument"
   ]
  },
  {
   "cell_type": "code",
   "execution_count": null,
   "id": "3c119ab5",
   "metadata": {},
   "outputs": [],
   "source": [
    "7. Name three or more ways that functions can communicate results to a caller.\n",
    "Ans.Function can return single value\n",
    "Can return multiple values, tuple\n",
    "can return list,dictionary\n",
    "can return function object\n",
    "can return class object (ex: SQL Connection object)\n",
    "can update an output variable\n",
    "can update a global variable\n",
    "can update/create a file"
   ]
  }
 ],
 "metadata": {
  "kernelspec": {
   "display_name": "Python 3 (ipykernel)",
   "language": "python",
   "name": "python3"
  },
  "language_info": {
   "codemirror_mode": {
    "name": "ipython",
    "version": 3
   },
   "file_extension": ".py",
   "mimetype": "text/x-python",
   "name": "python",
   "nbconvert_exporter": "python",
   "pygments_lexer": "ipython3",
   "version": "3.9.7"
  }
 },
 "nbformat": 4,
 "nbformat_minor": 5
}
